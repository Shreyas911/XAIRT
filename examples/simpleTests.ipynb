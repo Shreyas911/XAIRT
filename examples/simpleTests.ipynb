{
 "cells": [
  {
   "cell_type": "code",
   "execution_count": 2,
   "id": "97aaf40f",
   "metadata": {},
   "outputs": [
    {
     "name": "stdout",
     "output_type": "stream",
     "text": [
      "Running on CPU\n"
     ]
    },
    {
     "name": "stderr",
     "output_type": "stream",
     "text": [
      "2023-09-19 00:21:41.970179: W tensorflow/stream_executor/platform/default/dso_loader.cc:64] Could not load dynamic library 'libcuda.so.1'; dlerror: libcuda.so.1: cannot open shared object file: No such file or directory; LD_LIBRARY_PATH: /opt/ohpc/pub/libs/gnu7/openmpi/netcdf/4.5.0/lib:/opt/ohpc/pub/libs/gnu7/openmpi/netcdf-fortran/4.4.4/lib:/opt/ohpc/pub/libs/gnu7/openmpi/hdf5/1.10.1/lib:/opt/ohpc/pub/mpi/openmpi-gnu7/1.10.7/lib:/opt/ohpc/pub/compiler/gcc/7.3.0/lib64:/home/shreyas/lis-2.1.3/installation/lib:/share/jdk-16.0.1/lib::\n",
      "2023-09-19 00:21:41.970260: W tensorflow/stream_executor/cuda/cuda_driver.cc:269] failed call to cuInit: UNKNOWN ERROR (303)\n",
      "2023-09-19 00:21:41.970326: I tensorflow/stream_executor/cuda/cuda_diagnostics.cc:156] kernel driver does not appear to be running on this host (c2-1): /proc/driver/nvidia/version does not exist\n",
      "2023-09-19 00:21:41.971349: I tensorflow/core/platform/cpu_feature_guard.cc:193] This TensorFlow binary is optimized with oneAPI Deep Neural Network Library (oneDNN) to use the following CPU instructions in performance-critical operations:  SSE4.1 SSE4.2 AVX AVX2 FMA\n",
      "To enable them in other operations, rebuild TensorFlow with the appropriate compiler flags.\n"
     ]
    }
   ],
   "source": [
    "### Import the required libraries\n",
    "import numpy as np\n",
    "import scipy\n",
    "import matplotlib.pyplot as plt \n",
    "\n",
    "import warnings\n",
    "warnings.simplefilter(\"ignore\")\n",
    "\n",
    "import tensorflow as tf\n",
    "import tensorflow.keras as keras\n",
    "tf.compat.v1.disable_eager_execution()\n",
    "\n",
    "import os\n",
    "import sys\n",
    "\n",
    "import xarray as xr\n",
    "import xmitgcm\n",
    "from xmitgcm import open_mdsdataset\n",
    "\n",
    "# Append to sys.path the absolute path to src/XAIRT\n",
    "path_list = os.path.abspath('').split('/')\n",
    "path_src_XAIRT = ''\n",
    "for link in path_list[:-1]:\n",
    "    path_src_XAIRT = path_src_XAIRT+link+'/'\n",
    "sys.path.append(path_src_XAIRT+'/src')\n",
    "\n",
    "# Now import module XAIRT\n",
    "from XAIRT import *\n",
    "\n",
    "# See if GPUs are available\n",
    "from keras import backend as K\n",
    "if bool(K._get_available_gpus()):\n",
    "    print(\"Running on GPU\")\n",
    "else:\n",
    "    print(\"Running on CPU\")"
   ]
  },
  {
   "cell_type": "code",
   "execution_count": 19,
   "id": "ba056eed",
   "metadata": {},
   "outputs": [],
   "source": [
    "N = 10000\n",
    "X = np.random.rand(N,2)\n",
    "y = np.dot(X,np.array([1,2]))[:,np.newaxis]"
   ]
  },
  {
   "cell_type": "code",
   "execution_count": 31,
   "id": "25593a8b",
   "metadata": {},
   "outputs": [
    {
     "name": "stdout",
     "output_type": "stream",
     "text": [
      "\n",
      "Epoch 1: val_loss improved from inf to 0.02762, saving model to /home/shreyas/XAIRT/examples/model.h5\n",
      "\n",
      "Epoch 2: val_loss improved from 0.02762 to 0.00286, saving model to /home/shreyas/XAIRT/examples/model.h5\n",
      "\n",
      "Epoch 3: val_loss improved from 0.00286 to 0.00042, saving model to /home/shreyas/XAIRT/examples/model.h5\n",
      "\n",
      "Epoch 4: val_loss improved from 0.00042 to 0.00025, saving model to /home/shreyas/XAIRT/examples/model.h5\n",
      "\n",
      "Epoch 5: val_loss improved from 0.00025 to 0.00013, saving model to /home/shreyas/XAIRT/examples/model.h5\n",
      "\n",
      "Epoch 6: val_loss improved from 0.00013 to 0.00006, saving model to /home/shreyas/XAIRT/examples/model.h5\n",
      "\n",
      "Epoch 7: val_loss improved from 0.00006 to 0.00003, saving model to /home/shreyas/XAIRT/examples/model.h5\n",
      "\n",
      "Epoch 8: val_loss improved from 0.00003 to 0.00001, saving model to /home/shreyas/XAIRT/examples/model.h5\n",
      "\n",
      "Epoch 9: val_loss improved from 0.00001 to 0.00001, saving model to /home/shreyas/XAIRT/examples/model.h5\n",
      "\n",
      "Epoch 10: val_loss improved from 0.00001 to 0.00000, saving model to /home/shreyas/XAIRT/examples/model.h5\n"
     ]
    }
   ],
   "source": [
    "Layers = [{'size': 2, 'activation': None    , 'use_bias': None},\n",
    "          {'size': 20, 'activation': 'relu'  , 'use_bias': True},\n",
    "          {'size': 1 , 'activation': 'linear', 'use_bias': False}]\n",
    "\n",
    "Losses = [{'kind': 'mse', 'weight': 1.0}]\n",
    "\n",
    "kwargs = {'losses': Losses, 'optim': 'adam', 'metrics': ['mae'],\n",
    "            'batch_size': 10, 'epochs': 10, 'validation_split': 0.2,\n",
    "            'filename': 'model', 'dirname': os.path.abspath('')}\n",
    "\n",
    "K = TrainFullyConnectedNN(X, y, layers = Layers, **kwargs)\n",
    "L = TrainLR(X, y, y_ref = 0.0, fit_intercept = False)\n",
    "best_model = K.quickTrain()\n",
    "regr = L.quickTrain()\n",
    "y_NN = best_model.predict(X)\n",
    "y_LR = regr.predict(X)"
   ]
  },
  {
   "cell_type": "code",
   "execution_count": 32,
   "id": "41c31b41",
   "metadata": {},
   "outputs": [
    {
     "name": "stdout",
     "output_type": "stream",
     "text": [
      "[0.52979676 0.8786093 ]\n",
      "[0.50029193 1.        ]\n",
      "[0.54566141 0.87479875]\n"
     ]
    }
   ],
   "source": [
    "normalizeDict = {'bool_': True, 'kind': 'MaxAbs'}\n",
    "kwargs = {'y_ref': 0.00}\n",
    "\n",
    "Xplain = XAIR(best_model, 'lrp.alpha_1_beta_0', 'classic', X, normalizeDict, **kwargs)\n",
    "a, *_  = Xplain.quick_analyze()\n",
    "print(np.mean(a, axis = 0))\n",
    "\n",
    "Xplain = XAIR(best_model, 'gradient', 'classic', X, normalizeDict, **kwargs)\n",
    "a, *_  = Xplain.quick_analyze()\n",
    "print(np.mean(a, axis = 0))\n",
    "\n",
    "Xplain = XLR(regr, X)\n",
    "a, *_  = Xplain.quick_analyze()\n",
    "print(np.mean(a, axis = 0))"
   ]
  },
  {
   "cell_type": "code",
   "execution_count": 33,
   "id": "03d774dc",
   "metadata": {},
   "outputs": [
    {
     "data": {
      "text/plain": [
       "array([[1., 2.]])"
      ]
     },
     "execution_count": 33,
     "metadata": {},
     "output_type": "execute_result"
    }
   ],
   "source": [
    "regr.coef_"
   ]
  },
  {
   "cell_type": "code",
   "execution_count": null,
   "id": "7816603c",
   "metadata": {},
   "outputs": [],
   "source": []
  }
 ],
 "metadata": {
  "kernelspec": {
   "display_name": "py310_LRP",
   "language": "python",
   "name": "py310_lrp"
  },
  "language_info": {
   "codemirror_mode": {
    "name": "ipython",
    "version": 3
   },
   "file_extension": ".py",
   "mimetype": "text/x-python",
   "name": "python",
   "nbconvert_exporter": "python",
   "pygments_lexer": "ipython3",
   "version": "3.10.8"
  }
 },
 "nbformat": 4,
 "nbformat_minor": 5
}
