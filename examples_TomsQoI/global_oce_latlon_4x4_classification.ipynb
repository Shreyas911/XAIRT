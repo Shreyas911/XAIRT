{
 "cells": [
  {
   "cell_type": "code",
   "execution_count": 4,
   "id": "1d4ea14e",
   "metadata": {
    "editable": true,
    "slideshow": {
     "slide_type": ""
    },
    "tags": []
   },
   "outputs": [
    {
     "name": "stderr",
     "output_type": "stream",
     "text": [
      "2024-01-21 08:20:49.705135: I tensorflow/core/platform/cpu_feature_guard.cc:193] This TensorFlow binary is optimized with oneAPI Deep Neural Network Library (oneDNN) to use the following CPU instructions in performance-critical operations:  SSE4.1 SSE4.2 AVX AVX2 FMA\n",
      "To enable them in other operations, rebuild TensorFlow with the appropriate compiler flags.\n",
      "2024-01-21 08:21:10.448653: I tensorflow/core/common_runtime/gpu/gpu_device.cc:1532] Created device /job:localhost/replica:0/task:0/device:GPU:0 with 38221 MB memory:  -> device: 0, name: NVIDIA A100-PCIE-40GB, pci bus id: 0000:21:00.0, compute capability: 8.0\n",
      "2024-01-21 08:21:10.519957: I tensorflow/core/common_runtime/gpu/gpu_device.cc:1532] Created device /job:localhost/replica:0/task:0/device:GPU:1 with 38221 MB memory:  -> device: 1, name: NVIDIA A100-PCIE-40GB, pci bus id: 0000:81:00.0, compute capability: 8.0\n",
      "2024-01-21 08:21:10.522313: I tensorflow/core/common_runtime/gpu/gpu_device.cc:1532] Created device /job:localhost/replica:0/task:0/device:GPU:2 with 38221 MB memory:  -> device: 2, name: NVIDIA A100-PCIE-40GB, pci bus id: 0000:e2:00.0, compute capability: 8.0\n"
     ]
    },
    {
     "name": "stdout",
     "output_type": "stream",
     "text": [
      "Running on GPU\n"
     ]
    }
   ],
   "source": [
    "### Import the required libraries\n",
    "import numpy as np\n",
    "import scipy\n",
    "import matplotlib.pyplot as plt\n",
    "import cmocean\n",
    "\n",
    "import warnings\n",
    "warnings.filterwarnings('ignore')\n",
    "warnings.simplefilter(\"ignore\")\n",
    "\n",
    "import tensorflow as tf\n",
    "import tensorflow.keras as keras\n",
    "from keras import metrics\n",
    "import innvestigate\n",
    "\n",
    "import os\n",
    "from os.path import join\n",
    "import sys\n",
    "\n",
    "import xarray as xr\n",
    "import xmitgcm\n",
    "from xmitgcm import open_mdsdataset\n",
    "import ecco_v4_py as ecco\n",
    "\n",
    "import random\n",
    "\n",
    "# See if GPUs are available\n",
    "from keras import backend as K\n",
    "if bool(K._get_available_gpus()):\n",
    "    print(\"Running on GPU\")\n",
    "else:\n",
    "    print(\"Running on CPU\")\n",
    "\n",
    "# Append to sys.path the absolute path to src/XAIRT\n",
    "path_list = os.path.abspath('').split('/')\n",
    "path_src_XAIRT = ''\n",
    "for link in path_list[:-1]:\n",
    "    path_src_XAIRT = path_src_XAIRT+link+'/'\n",
    "sys.path.append(path_src_XAIRT+'/src')\n",
    "\n",
    "# Now import module XAIRT\n",
    "from XAIRT import *\n",
    "\n",
    "### https://stackoverflow.com/questions/36288235/how-to-get-stable-results-with-tensorflow-setting-random-seed ###\n",
    "### https://keras.io/examples/keras_recipes/reproducibility_recipes/ ###\n",
    "SEED = 42\n",
    "keras.utils.set_random_seed(SEED)\n",
    "tf.config.experimental.enable_op_determinism()\n",
    "\n",
    "tf.compat.v1.disable_eager_execution()"
   ]
  },
  {
   "cell_type": "code",
   "execution_count": 5,
   "id": "cce14446-f2c0-4a41-9382-9a8a6b00f774",
   "metadata": {},
   "outputs": [],
   "source": [
    "### Corresponds to grid point index (ny,nx) = (32,58)\n",
    "costLon = 240\n",
    "costLat = 50\n",
    "\n",
    "nx = 90\n",
    "ny = 40\n",
    "nz = 15"
   ]
  },
  {
   "cell_type": "code",
   "execution_count": 6,
   "id": "ebf87cb9",
   "metadata": {},
   "outputs": [],
   "source": [
    "#### SAVING DATA INTO XARRAY DATASET ####\n",
    "#### SAVING XARRAY DATASET AS NC FILE ####\n",
    "\n",
    "# mainDir = '/scratch2/shreyas/global_oce_latlon_4x4'\n",
    "\n",
    "# gridDir = mainDir + '/run_spinup/GRID'\n",
    "\n",
    "# DataDirs = [mainDir + '/run_forward_50yr_dailydump_pk000059400/diags/untarred_output',\n",
    "#              mainDir + '/run_forward_50yr_dailydump_pk000061200/diags/untarred_output']\n",
    "\n",
    "# files_list_TS = []\n",
    "# files_list_2Datm = []\n",
    "# init_indices = [594001, 612001]\n",
    "# length_rec = 18000\n",
    "\n",
    "# for i in range(length_rec):\n",
    "#     index = init_indices[0] + i\n",
    "#     files_list_TS.append(DataDirs[0] + '/' + f'state3d_TS.0000{index:6d}.data')\n",
    "#     files_list_2Datm.append(DataDirs[0] + '/' + f'state2d_atm.0000{index:6d}.data')\n",
    "# for i in range(length_rec):\n",
    "#     index = init_indices[1] + i\n",
    "#     files_list_TS.append(DataDirs[1] + '/' + f'state3d_TS.0000{index:6d}.data')\n",
    "#     files_list_2Datm.append(DataDirs[1] + '/' + f'state2d_atm.0000{index:6d}.data')\n",
    "    \n",
    "# nt = len(files_list_TS)\n",
    "# thetaSurf = np.zeros((nt, ny, nx))\n",
    "# saltSurf  = np.zeros((nt, ny, nx))\n",
    "# tauX      = np.zeros((nt, ny, nx))\n",
    "# tauY      = np.zeros((nt, ny, nx))\n",
    "                     \n",
    "# for i in range(len(files_list_TS)):\n",
    "#     thetaSurf[i] = np.reshape(np.fromfile(files_list_TS[i], dtype = '>f')[:nx*ny*nz],\n",
    "#                               (nz, ny, nx))[0]\n",
    "#     saltSurf[i]  = np.reshape(np.fromfile(files_list_TS[i], dtype = '>f')[nx*ny*nz:],\n",
    "#                               (nz, ny, nx))[0]\n",
    "#     tauX[i]      = np.reshape(np.fromfile(files_list_2Datm[i], dtype = '>f')[7*nx*ny:8*nx*ny],\n",
    "#                               (ny, nx))\n",
    "#     tauY[i]      = np.reshape(np.fromfile(files_list_2Datm[i], dtype = '>f')[8*nx*ny:9*nx*ny],\n",
    "#                               (ny, nx))\n",
    "    \n",
    "# # https://docs.xarray.dev/en/stable/generated/xarray.cftime_range.html\n",
    "# # Allows to filter like this - da_thetaSurf.sel(time=da_thetaSurf.time.dt.month.isin([6, 7, 8]))\n",
    "# timeDim = xr.cftime_range(start=\"1651\", end = \"1751\", calendar=\"360_day\")[:-1]\n",
    "# latDim    = np.arange(-78.,82.,4.)\n",
    "# lonDim    = np.arange(0.,360,4.)\n",
    "\n",
    "# da_XC = xr.DataArray(\n",
    "#     data=np.tile(lonDim, (40,1)),\n",
    "#     dims=[\"latitude\", \"longitude\"],\n",
    "#     coords=dict(\n",
    "#         latitude     = latDim,\n",
    "#         longitude    = lonDim,\n",
    "#     ),\n",
    "#     attrs=dict(description=\"Longitude tiled\"),\n",
    "# )\n",
    "\n",
    "# da_YC = xr.DataArray(\n",
    "#     data=np.tile(latDim, (90,1)).T,\n",
    "#     dims=[\"latitude\", \"longitude\"],\n",
    "#     coords=dict(\n",
    "#         latitude     = latDim,\n",
    "#         longitude    = lonDim,\n",
    "#     ),\n",
    "#     attrs=dict(description=\"Latitude tiled\"),\n",
    "# )\n",
    "\n",
    "# da_thetaSurf = xr.DataArray(\n",
    "#     data=thetaSurf,\n",
    "#     dims=[\"time\", \"latitude\", \"longitude\"],\n",
    "#     coords=dict(\n",
    "#         time         = timeDim,\n",
    "#         latitude     = latDim,\n",
    "#         longitude    = lonDim,\n",
    "#     ),\n",
    "#     attrs=dict(description=\"Surface temperature field\"),\n",
    "# )\n",
    "\n",
    "# da_saltSurf = xr.DataArray(\n",
    "#     data=saltSurf,\n",
    "#     dims=[\"time\", \"latitude\", \"longitude\"],\n",
    "#     coords=dict(\n",
    "#         time         = timeDim,\n",
    "#         latitude     = latDim,\n",
    "#         longitude    = lonDim,\n",
    "#     ),\n",
    "#     attrs=dict(description=\"Surface salinity field\"),\n",
    "# )\n",
    "\n",
    "# da_tauX = xr.DataArray(\n",
    "#     data=tauX,\n",
    "#     dims=[\"time\", \"latitude\", \"longitude\"],\n",
    "#     coords=dict(\n",
    "#         time         = timeDim,\n",
    "#         latitude     = latDim,\n",
    "#         longitude    = lonDim,\n",
    "#     ),\n",
    "#     attrs=dict(description=\"Surface zonal wind stress\"),\n",
    "# )\n",
    "\n",
    "# da_tauY = xr.DataArray(\n",
    "#     data=tauY,\n",
    "#     dims=[\"time\", \"latitude\", \"longitude\"],\n",
    "#     coords=dict(\n",
    "#         time         = timeDim,\n",
    "#         latitude     = latDim,\n",
    "#         longitude    = lonDim,\n",
    "#     ),\n",
    "#     attrs=dict(description=\"Surface meridional wind stress\"),\n",
    "# )\n",
    "\n",
    "# ds = xr.Dataset()\n",
    "# ds = ds.assign(XC        = da_XC,\n",
    "#                YC        = da_YC,\n",
    "#                thetaSurf = da_thetaSurf,\n",
    "#                saltSurf  = da_saltSurf,\n",
    "#                tauX      = da_tauX,\n",
    "#                tauY      = da_tauY)\n",
    "\n",
    "# hfacc = np.reshape(np.fromfile(gridDir + '/hFacC.data', \n",
    "#                               dtype = '>f'), (nz, ny, nx))\n",
    "\n",
    "# hFacC_mask = hfacc > 0\n",
    "# hFacC_mask = hFacC_mask.astype(np.float32)\n",
    "# hFacC_mask = hFacC_mask[0]\n",
    "\n",
    "# XC = ds['XC'].data\n",
    "# YC = ds['YC'].data\n",
    "\n",
    "# latMask = YC > -20.0\n",
    "# latMask = latMask.astype(float)\n",
    "\n",
    "# maskFinal = hFacC_mask * latMask\n",
    "# NaNmaskFinal = np.copy(maskFinal)\n",
    "# NaNmaskFinal[NaNmaskFinal == 0] = np.nan\n",
    "\n",
    "# da_hFacC_mask = xr.DataArray(\n",
    "#     data=hFacC_mask,\n",
    "#     dims=[\"latitude\", \"longitude\"],\n",
    "#     coords=dict(\n",
    "#         latitude     = latDim,\n",
    "#         longitude    = lonDim,\n",
    "#     ),\n",
    "#     attrs=dict(description=\"hFacC mask 2D 1 if > 0, else 0\"),\n",
    "# )\n",
    "\n",
    "# da_latMask = xr.DataArray(\n",
    "#     data=latMask,\n",
    "#     dims=[\"latitude\", \"longitude\"],\n",
    "#     coords=dict(\n",
    "#         latitude     = latDim,\n",
    "#         longitude    = lonDim,\n",
    "#     ),\n",
    "#     attrs=dict(description=\"Latitude Mask 1 if > -20, else 0\"),\n",
    "# )\n",
    "\n",
    "# da_maskFinal = xr.DataArray(\n",
    "#     data=maskFinal,\n",
    "#     dims=[\"latitude\", \"longitude\"],\n",
    "#     coords=dict(\n",
    "#         latitude     = latDim,\n",
    "#         longitude    = lonDim,\n",
    "#     ),\n",
    "#     attrs=dict(description=\"Mask 2D 1 if > 0, else 0\"),\n",
    "# )\n",
    "\n",
    "# da_NaNmaskFinal = xr.DataArray(\n",
    "#     data=NaNmaskFinal,\n",
    "#     dims=[\"latitude\", \"longitude\"],\n",
    "#     coords=dict(\n",
    "#         latitude     = latDim,\n",
    "#         longitude    = lonDim,\n",
    "#     ),\n",
    "#     attrs=dict(description=\"Mask 2D True if > 0, else NaN\"),\n",
    "# )\n",
    "\n",
    "# ds = ds.assign(hFacC_mask   = da_hFacC_mask,\n",
    "#           latMask      = da_latMask,\n",
    "#           maskFinal    = da_maskFinal,\n",
    "#           NaNmaskFinal = da_NaNmaskFinal)\n",
    "\n",
    "# wetpoints = np.nonzero(ds['maskFinal'].data)\n",
    "\n",
    "# ds.to_netcdf('/scratch2/shreyas/LRP_eccov4r4_data/dataGlobalLonLat4x4.nc', mode='w')"
   ]
  },
  {
   "cell_type": "code",
   "execution_count": 7,
   "id": "fd95c312",
   "metadata": {},
   "outputs": [],
   "source": [
    "### Sverdrup  - /scratch2/shreyas/LRP_eccov4r4_data\n",
    "### Lonestar6 - /work/07665/shrey911/ls6/LRP_eccov4r4_data\n",
    "\n",
    "ds = xr.open_dataset(f'/work/07665/shrey911/ls6/LRP_eccov4r4_data/dataGlobalLonLat4x4.nc')"
   ]
  },
  {
   "cell_type": "code",
   "execution_count": 8,
   "id": "f3b9384a",
   "metadata": {},
   "outputs": [
    {
     "data": {
      "text/plain": [
       "<matplotlib.colorbar.Colorbar at 0x14f8e44761a0>"
      ]
     },
     "execution_count": 8,
     "metadata": {},
     "output_type": "execute_result"
    },
    {
     "data": {
      "image/png": "[encoded data removed]",
      "text/plain": [
       "<Figure size 640x480 with 2 Axes>"
      ]
     },
     "metadata": {},
     "output_type": "display_data"
    }
   ],
   "source": [
    "plt.pcolor(ds['XC'], ds['YC'], \n",
    "           ds['NaNmaskFinal']*ds['thetaSurf'].isel(time = 0), \n",
    "           cmap = 'jet', vmax = 35)\n",
    "plt.scatter(240,50,marker = 'x', color = 'brown', label = \"Objective function loc\")\n",
    "plt.scatter(232,50,marker = 'o', color = 'black', label = \"Nearest wetpoint\")\n",
    "plt.colorbar()"
   ]
  },
  {
   "cell_type": "code",
   "execution_count": 52,
   "id": "8abe9160",
   "metadata": {},
   "outputs": [
    {
     "data": {
      "text/plain": [
       "(18052, 17888)"
      ]
     },
     "execution_count": 52,
     "metadata": {},
     "output_type": "execute_result"
    }
   ],
   "source": [
    "cost = ds[\"thetaSurf\"].sel(latitude=50.,longitude=232.)\n",
    "    \n",
    "wetpoints = np.nonzero(ds['maskFinal'].data)\n",
    "thetaSurfWet = ds[\"thetaSurf\"].data[:, wetpoints[0], wetpoints[1]]\n",
    "saltSurfWet  = ds[\"saltSurf\"].data[:, wetpoints[0], wetpoints[1]]\n",
    "tauXWet      = ds[\"tauX\"].data[:, wetpoints[0], wetpoints[1]]\n",
    "tauYWet      = ds[\"tauY\"].data[:, wetpoints[0], wetpoints[1]]\n",
    "tauWet       = np.concatenate((tauXWet,tauYWet), axis = 1)\n",
    "\n",
    "cost_seasonal = np.zeros((360,), dtype = float)\n",
    "thetaSurf_seasonal = np.zeros((360, thetaSurfWet.shape[1]), dtype = float)\n",
    "\n",
    "for i in range(360):\n",
    "    cost_seasonal[i] = np.mean(cost[i:36000:360])\n",
    "    thetaSurf_seasonal[i] = np.mean(thetaSurfWet[i:36000:360], axis = 0)\n",
    "\n",
    "X = thetaSurfWet.copy()\n",
    "y = cost.copy()\n",
    "\n",
    "for i in range(X.shape[0]):\n",
    "    X[i] = X[i] - thetaSurf_seasonal[i%360]\n",
    "    y[i] = y[i] - cost_seasonal[i%360]\n",
    "\n",
    "scipy.signal.detrend(X, axis=0, type='linear', bp=0, overwrite_data=True)\n",
    "X = X - np.mean(X, axis = 0)\n",
    "\n",
    "scipy.signal.detrend(y, axis=0, type='linear', bp=0, overwrite_data=True)\n",
    "y = y - np.mean(y, axis = 0)\n",
    "\n",
    "# https://stackoverflow.com/questions/13728392/moving-average-or-running-mean\n",
    "y = np.convolve(y, np.ones(61)/61, mode='valid')\n",
    "oneHotCost = np.zeros((y.shape[0], 2), dtype = int)\n",
    "oneHotCost[:,0] = y >= 0.0\n",
    "oneHotCost[:,1] = y <  0.0\n",
    "\n",
    "np.sum(oneHotCost[:,0]), np.sum(oneHotCost[:,1])"
   ]
  },
  {
   "cell_type": "code",
   "execution_count": 60,
   "id": "c7ab47df-717b-47ca-9e73-957e524bc146",
   "metadata": {},
   "outputs": [
    {
     "data": {
      "text/plain": [
       "(array([ 437., 1076., 4695., 6323., 7258., 7753., 3277., 3760.,  994.,\n",
       "         367.]),\n",
       " array([-1.08803075e-05, -8.60639095e-06, -6.33247441e-06, -4.05855787e-06,\n",
       "        -1.78464133e-06,  4.89275203e-07,  2.76319174e-06,  5.03710828e-06,\n",
       "         7.31102482e-06,  9.58494135e-06,  1.18588579e-05]),\n",
       " <BarContainer object of 10 artists>)"
      ]
     },
     "execution_count": 60,
     "metadata": {},
     "output_type": "execute_result"
    },
    {
     "data": {
      "image/png": "[encoded data removed]",
      "text/plain": [
       "<Figure size 640x480 with 1 Axes>"
      ]
     },
     "metadata": {},
     "output_type": "display_data"
    }
   ],
   "source": [
    "plt.plot(cost[:360])\n",
    "plt.plot(cost_seasonal)\n",
    "plt.plot(y[:360])"
   ]
  },
  {
   "cell_type": "code",
   "execution_count": 61,
   "id": "11aa9598-d469-40bf-a5fe-9a05c85eddb6",
   "metadata": {},
   "outputs": [
    {
     "data": {
      "text/plain": [
       "(array([ 437., 1076., 4695., 6323., 7258., 7753., 3277., 3760.,  994.,\n",
       "         367.]),\n",
       " array([-1.08803075e-05, -8.60639095e-06, -6.33247441e-06, -4.05855787e-06,\n",
       "        -1.78464133e-06,  4.89275203e-07,  2.76319174e-06,  5.03710828e-06,\n",
       "         7.31102482e-06,  9.58494135e-06,  1.18588579e-05]),\n",
       " <BarContainer object of 10 artists>)"
      ]
     },
     "execution_count": 61,
     "metadata": {},
     "output_type": "execute_result"
    },
    {
     "data": {
      "image/png": "[encoded data removed]",
      "text/plain": [
       "<Figure size 640x480 with 1 Axes>"
      ]
     },
     "metadata": {},
     "output_type": "display_data"
    }
   ],
   "source": [
    "plt.hist(np.reshape(y, (-1,)), bins = 10)"
   ]
  },
  {
   "cell_type": "code",
   "execution_count": 62,
   "id": "fd1d358a-1a82-4092-a242-8822643ff8b9",
   "metadata": {},
   "outputs": [
    {
     "data": {
      "text/plain": [
       "[<matplotlib.lines.Line2D at 0x14f8bda079a0>]"
      ]
     },
     "execution_count": 62,
     "metadata": {},
     "output_type": "execute_result"
    },
    {
     "data": {
      "image/png": "[encoded data removed]",
      "text/plain": [
       "<Figure size 640x480 with 1 Axes>"
      ]
     },
     "metadata": {},
     "output_type": "display_data"
    }
   ],
   "source": [
    "plt.plot(thetaSurfWet[:360,1])\n",
    "plt.plot(thetaSurf_seasonal[:,1])\n",
    "plt.plot(X[:360,1])"
   ]
  },
  {
   "cell_type": "code",
   "execution_count": 63,
   "id": "1765beec-ea6a-45f4-9e58-20304399475c",
   "metadata": {},
   "outputs": [
    {
     "data": {
      "text/plain": [
       "(array([1.6460000e+03, 1.6540000e+03, 2.5450000e+03, 6.2420000e+03,\n",
       "        4.3779636e+07, 1.3618000e+04, 3.0150000e+03, 1.7040000e+03,\n",
       "        1.6140000e+03, 3.2600000e+02]),\n",
       " array([-1.00892866, -0.78948697, -0.57004527, -0.35060357, -0.13116187,\n",
       "         0.08827983,  0.30772153,  0.52716323,  0.74660493,  0.96604663,\n",
       "         1.18548833]),\n",
       " <BarContainer object of 10 artists>)"
      ]
     },
     "execution_count": 63,
     "metadata": {},
     "output_type": "execute_result"
    },
    {
     "data": {
      "image/png": "[encoded data removed]",
      "text/plain": [
       "<Figure size 640x480 with 1 Axes>"
      ]
     },
     "metadata": {},
     "output_type": "display_data"
    }
   ],
   "source": [
    "plt.hist(np.reshape(X, (-1,)), bins = 10)"
   ]
  }
 ],
 "metadata": {
  "kernelspec": {
   "display_name": "py310_LRP",
   "language": "python",
   "name": "py310_lrp"
  },
  "language_info": {
   "codemirror_mode": {
    "name": "ipython",
    "version": 3
   },
   "file_extension": ".py",
   "mimetype": "text/x-python",
   "name": "python",
   "nbconvert_exporter": "python",
   "pygments_lexer": "ipython3",
   "version": "3.10.8"
  }
 },
 "nbformat": 4,
 "nbformat_minor": 5
}
