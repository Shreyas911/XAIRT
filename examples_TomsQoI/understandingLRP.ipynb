{
 "cells": [
  {
   "cell_type": "code",
   "execution_count": 1,
   "id": "97aaf40f",
   "metadata": {},
   "outputs": [
    {
     "name": "stdout",
     "output_type": "stream",
     "text": [
      "Running on CPU\n"
     ]
    },
    {
     "name": "stderr",
     "output_type": "stream",
     "text": [
      "2024-04-18 18:45:56.948637: W tensorflow/stream_executor/platform/default/dso_loader.cc:64] Could not load dynamic library 'libcuda.so.1'; dlerror: libcuda.so.1: cannot open shared object file: No such file or directory; LD_LIBRARY_PATH: /opt/ohpc/pub/libs/gnu12/openmpi4/netcdf/4.9.0/lib:/opt/ohpc/pub/libs/gnu12/openmpi4/netcdf-fortran/4.6.0/lib:/opt/ohpc/pub/libs/gnu12/openmpi4/hdf5/1.14.0/lib:/opt/ohpc/pub/mpi/libfabric/1.18.0/lib:/opt/ohpc/pub/mpi/ucx-ohpc/1.14.0/lib:/opt/ohpc/pub/libs/hwloc/lib:/opt/ohpc/pub/mpi/openmpi4-gnu12/4.1.5/lib:/opt/ohpc/pub/compiler/gcc/12.2.0/lib64:/share/jdk-16.0.1/lib:/home/shreyas/lis-2.1.3/installation/lib::\n",
      "2024-04-18 18:45:56.948675: W tensorflow/stream_executor/cuda/cuda_driver.cc:269] failed call to cuInit: UNKNOWN ERROR (303)\n",
      "2024-04-18 18:45:56.948707: I tensorflow/stream_executor/cuda/cuda_diagnostics.cc:156] kernel driver does not appear to be running on this host (c1-2): /proc/driver/nvidia/version does not exist\n",
      "2024-04-18 18:45:56.948986: I tensorflow/core/platform/cpu_feature_guard.cc:193] This TensorFlow binary is optimized with oneAPI Deep Neural Network Library (oneDNN) to use the following CPU instructions in performance-critical operations:  SSE4.1 SSE4.2 AVX AVX2 FMA\n",
      "To enable them in other operations, rebuild TensorFlow with the appropriate compiler flags.\n"
     ]
    }
   ],
   "source": [
    "### Import the required libraries\n",
    "import numpy as np\n",
    "import scipy\n",
    "import matplotlib.pyplot as plt\n",
    "import cmocean\n",
    "\n",
    "import warnings\n",
    "warnings.filterwarnings('ignore')\n",
    "warnings.simplefilter(\"ignore\")\n",
    "\n",
    "import tensorflow as tf\n",
    "import tensorflow.keras as keras\n",
    "from keras import metrics\n",
    "from keras.constraints import NonNeg\n",
    "import innvestigate\n",
    "import innvestigate.utils as iutils\n",
    "from innvestigate.analyzer.base import AnalyzerBase\n",
    "\n",
    "import os\n",
    "from os.path import join\n",
    "import sys\n",
    "\n",
    "import random\n",
    "\n",
    "# See if GPUs are available\n",
    "from keras import backend as K\n",
    "if bool(K._get_available_gpus()):\n",
    "    print(\"Running on GPU\")\n",
    "else:\n",
    "    print(\"Running on CPU\")\n",
    "\n",
    "# Append to sys.path the absolute path to src/XAIRT\n",
    "path_list = os.path.abspath('').split('/')\n",
    "path_src_XAIRT = ''\n",
    "for link in path_list[:-1]:\n",
    "    path_src_XAIRT = path_src_XAIRT+link+'/'\n",
    "sys.path.append(path_src_XAIRT+'/src')\n",
    "\n",
    "# Now import module XAIRT\n",
    "from XAIRT import *\n",
    "\n",
    "### https://stackoverflow.com/questions/36288235/how-to-get-stable-results-with-tensorflow-setting-random-seed ###\n",
    "### https://keras.io/examples/keras_recipes/reproducibility_recipes/ ###\n",
    "SEED = 42\n",
    "keras.utils.set_random_seed(SEED)\n",
    "tf.config.experimental.enable_op_determinism()\n",
    "\n",
    "tf.compat.v1.disable_eager_execution()"
   ]
  },
  {
   "cell_type": "markdown",
   "id": "cee7def8",
   "metadata": {},
   "source": [
    "## Understanding LRP methods using a simple classification NN"
   ]
  },
  {
   "cell_type": "code",
   "execution_count": 2,
   "id": "01c5626e",
   "metadata": {},
   "outputs": [],
   "source": [
    "N = 10000\n",
    "X = np.random.rand(N,2)\n",
    "y = np.dot(X,np.array([1,2]))\n",
    "oneHot = np.zeros((y.shape[0],2))\n",
    "oneHot[:,0] = (y >= 3)\n",
    "oneHot[:,1] = (y < 3)"
   ]
  },
  {
   "cell_type": "code",
   "execution_count": 3,
   "id": "a0366fe9",
   "metadata": {},
   "outputs": [
    {
     "name": "stdout",
     "output_type": "stream",
     "text": [
      "Train on 8000 samples, validate on 2000 samples\n",
      "Epoch 1/100\n",
      " 128/8000 [..............................] - ETA: 3s - loss: 0.4271 - mae: 0.3455\n",
      "Epoch 1: val_loss improved from inf to 0.08305, saving model to /home/shreyas/XAIRT/examples_TomsQoI/model_simpleTests_LRP.h5\n"
     ]
    },
    {
     "name": "stderr",
     "output_type": "stream",
     "text": [
      "2024-04-18 18:45:57.689886: I tensorflow/compiler/mlir/mlir_graph_optimization_pass.cc:354] MLIR V1 optimization pass is not enabled\n"
     ]
    },
    {
     "name": "stdout",
     "output_type": "stream",
     "text": [
      "8000/8000 [==============================] - 0s 19us/sample - loss: 0.2219 - mae: 0.1909 - val_loss: 0.0830 - val_mae: 0.0786 - lr: 0.0100\n",
      "Epoch 2/100\n",
      " 128/8000 [..............................] - ETA: 0s - loss: 0.0832 - mae: 0.0789\n",
      "Epoch 2: val_loss improved from 0.08305 to 0.04389, saving model to /home/shreyas/XAIRT/examples_TomsQoI/model_simpleTests_LRP.h5\n",
      "8000/8000 [==============================] - 0s 8us/sample - loss: 0.0625 - mae: 0.0597 - val_loss: 0.0439 - val_mae: 0.0424 - lr: 0.0100\n",
      "Epoch 3/100\n",
      " 128/8000 [..............................] - ETA: 0s - loss: 0.0466 - mae: 0.0451\n",
      "Epoch 3: val_loss improved from 0.04389 to 0.03038, saving model to /home/shreyas/XAIRT/examples_TomsQoI/model_simpleTests_LRP.h5\n",
      "8000/8000 [==============================] - 0s 8us/sample - loss: 0.0386 - mae: 0.0374 - val_loss: 0.0304 - val_mae: 0.0296 - lr: 0.0100\n",
      "Epoch 4/100\n",
      " 128/8000 [..............................] - ETA: 0s - loss: 0.0323 - mae: 0.0314\n",
      "Epoch 4: val_loss improved from 0.03038 to 0.02336, saving model to /home/shreyas/XAIRT/examples_TomsQoI/model_simpleTests_LRP.h5\n",
      "8000/8000 [==============================] - 0s 8us/sample - loss: 0.0283 - mae: 0.0276 - val_loss: 0.0234 - val_mae: 0.0229 - lr: 0.0100\n",
      "Epoch 5/100\n",
      " 128/8000 [..............................] - ETA: 0s - loss: 0.0246 - mae: 0.0242\n",
      "Epoch 5: val_loss improved from 0.02336 to 0.01902, saving model to /home/shreyas/XAIRT/examples_TomsQoI/model_simpleTests_LRP.h5\n",
      "8000/8000 [==============================] - 0s 8us/sample - loss: 0.0225 - mae: 0.0220 - val_loss: 0.0190 - val_mae: 0.0187 - lr: 0.0100\n",
      "Epoch 6/100\n",
      " 128/8000 [..............................] - ETA: 0s - loss: 0.0231 - mae: 0.0226\n",
      "Epoch 6: val_loss improved from 0.01902 to 0.01606, saving model to /home/shreyas/XAIRT/examples_TomsQoI/model_simpleTests_LRP.h5\n",
      "8000/8000 [==============================] - 0s 8us/sample - loss: 0.0187 - mae: 0.0183 - val_loss: 0.0161 - val_mae: 0.0158 - lr: 0.0100\n",
      "Epoch 7/100\n",
      " 128/8000 [..............................] - ETA: 0s - loss: 0.0189 - mae: 0.0185\n",
      "Epoch 7: val_loss improved from 0.01606 to 0.01391, saving model to /home/shreyas/XAIRT/examples_TomsQoI/model_simpleTests_LRP.h5\n",
      "8000/8000 [==============================] - 0s 8us/sample - loss: 0.0160 - mae: 0.0158 - val_loss: 0.0139 - val_mae: 0.0137 - lr: 0.0100\n",
      "Epoch 8/100\n",
      " 128/8000 [..............................] - ETA: 0s - loss: 0.0153 - mae: 0.0151\n",
      "Epoch 8: val_loss improved from 0.01391 to 0.01228, saving model to /home/shreyas/XAIRT/examples_TomsQoI/model_simpleTests_LRP.h5\n",
      "8000/8000 [==============================] - 0s 8us/sample - loss: 0.0140 - mae: 0.0138 - val_loss: 0.0123 - val_mae: 0.0121 - lr: 0.0100\n",
      "Epoch 9/100\n",
      " 128/8000 [..............................] - ETA: 0s - loss: 0.0127 - mae: 0.0126\n",
      "Epoch 9: val_loss improved from 0.01228 to 0.01100, saving model to /home/shreyas/XAIRT/examples_TomsQoI/model_simpleTests_LRP.h5\n",
      "8000/8000 [==============================] - 0s 8us/sample - loss: 0.0125 - mae: 0.0123 - val_loss: 0.0110 - val_mae: 0.0109 - lr: 0.0100\n",
      "Epoch 10/100\n",
      " 128/8000 [..............................] - ETA: 0s - loss: 0.0114 - mae: 0.0113\n",
      "Epoch 10: val_loss improved from 0.01100 to 0.00997, saving model to /home/shreyas/XAIRT/examples_TomsQoI/model_simpleTests_LRP.h5\n",
      "8000/8000 [==============================] - 0s 8us/sample - loss: 0.0113 - mae: 0.0111 - val_loss: 0.0100 - val_mae: 0.0099 - lr: 0.0100\n",
      "Epoch 11/100\n",
      " 128/8000 [..............................] - ETA: 0s - loss: 0.0127 - mae: 0.0125\n",
      "Epoch 11: val_loss improved from 0.00997 to 0.00911, saving model to /home/shreyas/XAIRT/examples_TomsQoI/model_simpleTests_LRP.h5\n",
      "8000/8000 [==============================] - 0s 8us/sample - loss: 0.0103 - mae: 0.0101 - val_loss: 0.0091 - val_mae: 0.0090 - lr: 0.0100\n",
      "Epoch 12/100\n",
      " 128/8000 [..............................] - ETA: 0s - loss: 0.0102 - mae: 0.0101\n",
      "Epoch 12: val_loss improved from 0.00911 to 0.00839, saving model to /home/shreyas/XAIRT/examples_TomsQoI/model_simpleTests_LRP.h5\n",
      "8000/8000 [==============================] - 0s 8us/sample - loss: 0.0094 - mae: 0.0093 - val_loss: 0.0084 - val_mae: 0.0083 - lr: 0.0100\n",
      "Epoch 13/100\n",
      " 128/8000 [..............................] - ETA: 0s - loss: 0.0096 - mae: 0.0095\n",
      "Epoch 13: val_loss improved from 0.00839 to 0.00778, saving model to /home/shreyas/XAIRT/examples_TomsQoI/model_simpleTests_LRP.h5\n",
      "8000/8000 [==============================] - 0s 8us/sample - loss: 0.0087 - mae: 0.0086 - val_loss: 0.0078 - val_mae: 0.0077 - lr: 0.0100\n",
      "Epoch 14/100\n",
      " 128/8000 [..............................] - ETA: 0s - loss: 0.0083 - mae: 0.0082\n",
      "Epoch 14: val_loss improved from 0.00778 to 0.00725, saving model to /home/shreyas/XAIRT/examples_TomsQoI/model_simpleTests_LRP.h5\n",
      "8000/8000 [==============================] - 0s 8us/sample - loss: 0.0081 - mae: 0.0080 - val_loss: 0.0073 - val_mae: 0.0072 - lr: 0.0100\n",
      "Epoch 15/100\n",
      " 128/8000 [..............................] - ETA: 0s - loss: 0.0072 - mae: 0.0072\n",
      "Epoch 15: val_loss improved from 0.00725 to 0.00679, saving model to /home/shreyas/XAIRT/examples_TomsQoI/model_simpleTests_LRP.h5\n",
      "8000/8000 [==============================] - 0s 8us/sample - loss: 0.0076 - mae: 0.0075 - val_loss: 0.0068 - val_mae: 0.0067 - lr: 0.0100\n",
      "Epoch 16/100\n",
      " 128/8000 [..............................] - ETA: 0s - loss: 0.0080 - mae: 0.0079\n",
      "Epoch 16: val_loss improved from 0.00679 to 0.00639, saving model to /home/shreyas/XAIRT/examples_TomsQoI/model_simpleTests_LRP.h5\n",
      "8000/8000 [==============================] - 0s 8us/sample - loss: 0.0071 - mae: 0.0071 - val_loss: 0.0064 - val_mae: 0.0063 - lr: 0.0100\n",
      "Epoch 17/100\n",
      " 128/8000 [..............................] - ETA: 0s - loss: 0.0077 - mae: 0.0076\n",
      "Epoch 17: val_loss improved from 0.00639 to 0.00603, saving model to /home/shreyas/XAIRT/examples_TomsQoI/model_simpleTests_LRP.h5\n",
      "8000/8000 [==============================] - 0s 8us/sample - loss: 0.0067 - mae: 0.0067 - val_loss: 0.0060 - val_mae: 0.0060 - lr: 0.0100\n",
      "Epoch 18/100\n",
      " 128/8000 [..............................] - ETA: 0s - loss: 0.0072 - mae: 0.0071\n",
      "Epoch 18: val_loss improved from 0.00603 to 0.00572, saving model to /home/shreyas/XAIRT/examples_TomsQoI/model_simpleTests_LRP.h5\n",
      "8000/8000 [==============================] - 0s 8us/sample - loss: 0.0064 - mae: 0.0063 - val_loss: 0.0057 - val_mae: 0.0057 - lr: 0.0100\n",
      "Epoch 19/100\n",
      " 128/8000 [..............................] - ETA: 0s - loss: 0.0072 - mae: 0.0071\n",
      "Epoch 19: val_loss improved from 0.00572 to 0.00543, saving model to /home/shreyas/XAIRT/examples_TomsQoI/model_simpleTests_LRP.h5\n",
      "8000/8000 [==============================] - 0s 8us/sample - loss: 0.0060 - mae: 0.0060 - val_loss: 0.0054 - val_mae: 0.0054 - lr: 0.0100\n",
      "Epoch 20/100\n",
      " 128/8000 [..............................] - ETA: 0s - loss: 0.0047 - mae: 0.0047\n",
      "Epoch 20: val_loss improved from 0.00543 to 0.00517, saving model to /home/shreyas/XAIRT/examples_TomsQoI/model_simpleTests_LRP.h5\n",
      "8000/8000 [==============================] - 0s 8us/sample - loss: 0.0057 - mae: 0.0057 - val_loss: 0.0052 - val_mae: 0.0051 - lr: 0.0100\n",
      "Epoch 21/100\n",
      " 128/8000 [..............................] - ETA: 0s - loss: 0.0047 - mae: 0.0046\n",
      "Epoch 21: val_loss improved from 0.00517 to 0.00494, saving model to /home/shreyas/XAIRT/examples_TomsQoI/model_simpleTests_LRP.h5\n",
      "8000/8000 [==============================] - 0s 8us/sample - loss: 0.0055 - mae: 0.0054 - val_loss: 0.0049 - val_mae: 0.0049 - lr: 0.0100\n",
      "Epoch 22/100\n",
      " 128/8000 [..............................] - ETA: 0s - loss: 0.0049 - mae: 0.0049\n",
      "Epoch 22: val_loss improved from 0.00494 to 0.00472, saving model to /home/shreyas/XAIRT/examples_TomsQoI/model_simpleTests_LRP.h5\n",
      "8000/8000 [==============================] - 0s 8us/sample - loss: 0.0052 - mae: 0.0052 - val_loss: 0.0047 - val_mae: 0.0047 - lr: 0.0100\n",
      "Epoch 23/100\n",
      " 128/8000 [..............................] - ETA: 0s - loss: 0.0061 - mae: 0.0061\n",
      "Epoch 23: val_loss improved from 0.00472 to 0.00452, saving model to /home/shreyas/XAIRT/examples_TomsQoI/model_simpleTests_LRP.h5\n",
      "8000/8000 [==============================] - 0s 8us/sample - loss: 0.0050 - mae: 0.0050 - val_loss: 0.0045 - val_mae: 0.0045 - lr: 0.0100\n",
      "Epoch 24/100\n",
      " 128/8000 [..............................] - ETA: 0s - loss: 0.0052 - mae: 0.0052\n",
      "Epoch 24: val_loss improved from 0.00452 to 0.00434, saving model to /home/shreyas/XAIRT/examples_TomsQoI/model_simpleTests_LRP.h5\n",
      "8000/8000 [==============================] - 0s 8us/sample - loss: 0.0048 - mae: 0.0048 - val_loss: 0.0043 - val_mae: 0.0043 - lr: 0.0100\n",
      "Epoch 25/100\n",
      " 128/8000 [..............................] - ETA: 0s - loss: 0.0048 - mae: 0.0048\n",
      "Epoch 25: val_loss improved from 0.00434 to 0.00425, saving model to /home/shreyas/XAIRT/examples_TomsQoI/model_simpleTests_LRP.h5\n",
      "8000/8000 [==============================] - 0s 8us/sample - loss: 0.0047 - mae: 0.0046 - val_loss: 0.0042 - val_mae: 0.0042 - lr: 0.0050\n",
      "Epoch 26/100\n",
      " 128/8000 [..............................] - ETA: 0s - loss: 0.0039 - mae: 0.0039\n",
      "Epoch 26: val_loss improved from 0.00425 to 0.00417, saving model to /home/shreyas/XAIRT/examples_TomsQoI/model_simpleTests_LRP.h5\n",
      "8000/8000 [==============================] - 0s 8us/sample - loss: 0.0046 - mae: 0.0045 - val_loss: 0.0042 - val_mae: 0.0041 - lr: 0.0050\n",
      "Epoch 27/100\n",
      " 128/8000 [..............................] - ETA: 0s - loss: 0.0049 - mae: 0.0049\n",
      "Epoch 27: val_loss improved from 0.00417 to 0.00409, saving model to /home/shreyas/XAIRT/examples_TomsQoI/model_simpleTests_LRP.h5\n",
      "8000/8000 [==============================] - 0s 8us/sample - loss: 0.0045 - mae: 0.0045 - val_loss: 0.0041 - val_mae: 0.0041 - lr: 0.0050\n",
      "Epoch 28/100\n",
      " 128/8000 [..............................] - ETA: 0s - loss: 0.0035 - mae: 0.0035\n",
      "Epoch 28: val_loss improved from 0.00409 to 0.00402, saving model to /home/shreyas/XAIRT/examples_TomsQoI/model_simpleTests_LRP.h5\n",
      "8000/8000 [==============================] - 0s 8us/sample - loss: 0.0044 - mae: 0.0044 - val_loss: 0.0040 - val_mae: 0.0040 - lr: 0.0050\n",
      "Epoch 29/100\n",
      " 128/8000 [..............................] - ETA: 0s - loss: 0.0045 - mae: 0.0045\n",
      "Epoch 29: val_loss improved from 0.00402 to 0.00394, saving model to /home/shreyas/XAIRT/examples_TomsQoI/model_simpleTests_LRP.h5\n",
      "8000/8000 [==============================] - 0s 8us/sample - loss: 0.0043 - mae: 0.0043 - val_loss: 0.0039 - val_mae: 0.0039 - lr: 0.0050\n",
      "Epoch 30/100\n",
      " 128/8000 [..............................] - ETA: 0s - loss: 0.0048 - mae: 0.0047\n",
      "Epoch 30: val_loss improved from 0.00394 to 0.00387, saving model to /home/shreyas/XAIRT/examples_TomsQoI/model_simpleTests_LRP.h5\n",
      "8000/8000 [==============================] - 0s 8us/sample - loss: 0.0042 - mae: 0.0042 - val_loss: 0.0039 - val_mae: 0.0039 - lr: 0.0050\n",
      "Epoch 31/100\n",
      " 128/8000 [..............................] - ETA: 0s - loss: 0.0036 - mae: 0.0036\n",
      "Epoch 31: val_loss improved from 0.00387 to 0.00381, saving model to /home/shreyas/XAIRT/examples_TomsQoI/model_simpleTests_LRP.h5\n",
      "8000/8000 [==============================] - 0s 8us/sample - loss: 0.0042 - mae: 0.0042 - val_loss: 0.0038 - val_mae: 0.0038 - lr: 0.0050\n",
      "Epoch 32/100\n",
      " 128/8000 [..............................] - ETA: 0s - loss: 0.0039 - mae: 0.0038\n",
      "Epoch 32: val_loss improved from 0.00381 to 0.00374, saving model to /home/shreyas/XAIRT/examples_TomsQoI/model_simpleTests_LRP.h5\n",
      "8000/8000 [==============================] - 0s 8us/sample - loss: 0.0041 - mae: 0.0041 - val_loss: 0.0037 - val_mae: 0.0037 - lr: 0.0050\n",
      "Epoch 33/100\n",
      " 128/8000 [..............................] - ETA: 0s - loss: 0.0043 - mae: 0.0042\n",
      "Epoch 33: val_loss improved from 0.00374 to 0.00368, saving model to /home/shreyas/XAIRT/examples_TomsQoI/model_simpleTests_LRP.h5\n",
      "8000/8000 [==============================] - 0s 8us/sample - loss: 0.0040 - mae: 0.0040 - val_loss: 0.0037 - val_mae: 0.0037 - lr: 0.0050\n",
      "Epoch 34/100\n",
      " 128/8000 [..............................] - ETA: 0s - loss: 0.0031 - mae: 0.0031\n",
      "Epoch 34: val_loss improved from 0.00368 to 0.00362, saving model to /home/shreyas/XAIRT/examples_TomsQoI/model_simpleTests_LRP.h5\n",
      "8000/8000 [==============================] - 0s 8us/sample - loss: 0.0040 - mae: 0.0039 - val_loss: 0.0036 - val_mae: 0.0036 - lr: 0.0050\n",
      "Epoch 35/100\n",
      " 128/8000 [..............................] - ETA: 0s - loss: 0.0043 - mae: 0.0042\n",
      "Epoch 35: val_loss improved from 0.00362 to 0.00356, saving model to /home/shreyas/XAIRT/examples_TomsQoI/model_simpleTests_LRP.h5\n",
      "8000/8000 [==============================] - 0s 8us/sample - loss: 0.0039 - mae: 0.0039 - val_loss: 0.0036 - val_mae: 0.0035 - lr: 0.0050\n",
      "Epoch 36/100\n",
      " 128/8000 [..............................] - ETA: 0s - loss: 0.0037 - mae: 0.0037\n",
      "Epoch 36: val_loss improved from 0.00356 to 0.00350, saving model to /home/shreyas/XAIRT/examples_TomsQoI/model_simpleTests_LRP.h5\n",
      "8000/8000 [==============================] - 0s 8us/sample - loss: 0.0038 - mae: 0.0038 - val_loss: 0.0035 - val_mae: 0.0035 - lr: 0.0050\n",
      "Epoch 37/100\n",
      " 128/8000 [..............................] - ETA: 0s - loss: 0.0033 - mae: 0.0033\n",
      "Epoch 37: val_loss improved from 0.00350 to 0.00345, saving model to /home/shreyas/XAIRT/examples_TomsQoI/model_simpleTests_LRP.h5\n",
      "8000/8000 [==============================] - 0s 9us/sample - loss: 0.0038 - mae: 0.0038 - val_loss: 0.0034 - val_mae: 0.0034 - lr: 0.0050\n",
      "Epoch 38/100\n",
      " 128/8000 [..............................] - ETA: 0s - loss: 0.0036 - mae: 0.0036\n",
      "Epoch 38: val_loss improved from 0.00345 to 0.00340, saving model to /home/shreyas/XAIRT/examples_TomsQoI/model_simpleTests_LRP.h5\n",
      "8000/8000 [==============================] - 0s 8us/sample - loss: 0.0037 - mae: 0.0037 - val_loss: 0.0034 - val_mae: 0.0034 - lr: 0.0050\n",
      "Epoch 39/100\n",
      " 128/8000 [..............................] - ETA: 0s - loss: 0.0039 - mae: 0.0039\n",
      "Epoch 39: val_loss improved from 0.00340 to 0.00334, saving model to /home/shreyas/XAIRT/examples_TomsQoI/model_simpleTests_LRP.h5\n",
      "8000/8000 [==============================] - 0s 8us/sample - loss: 0.0037 - mae: 0.0037 - val_loss: 0.0033 - val_mae: 0.0033 - lr: 0.0050\n",
      "Epoch 40/100\n",
      " 128/8000 [..............................] - ETA: 0s - loss: 0.0034 - mae: 0.0034\n",
      "Epoch 40: val_loss improved from 0.00334 to 0.00329, saving model to /home/shreyas/XAIRT/examples_TomsQoI/model_simpleTests_LRP.h5\n",
      "8000/8000 [==============================] - 0s 8us/sample - loss: 0.0036 - mae: 0.0036 - val_loss: 0.0033 - val_mae: 0.0033 - lr: 0.0050\n",
      "Epoch 41/100\n",
      " 128/8000 [..............................] - ETA: 0s - loss: 0.0030 - mae: 0.0030\n",
      "Epoch 41: val_loss improved from 0.00329 to 0.00325, saving model to /home/shreyas/XAIRT/examples_TomsQoI/model_simpleTests_LRP.h5\n",
      "8000/8000 [==============================] - 0s 8us/sample - loss: 0.0036 - mae: 0.0035 - val_loss: 0.0032 - val_mae: 0.0032 - lr: 0.0050\n",
      "Epoch 42/100\n",
      " 128/8000 [..............................] - ETA: 0s - loss: 0.0038 - mae: 0.0037\n",
      "Epoch 42: val_loss improved from 0.00325 to 0.00320, saving model to /home/shreyas/XAIRT/examples_TomsQoI/model_simpleTests_LRP.h5\n",
      "8000/8000 [==============================] - 0s 8us/sample - loss: 0.0035 - mae: 0.0035 - val_loss: 0.0032 - val_mae: 0.0032 - lr: 0.0050\n",
      "Epoch 43/100\n",
      " 128/8000 [..............................] - ETA: 0s - loss: 0.0041 - mae: 0.0041\n",
      "Epoch 43: val_loss improved from 0.00320 to 0.00315, saving model to /home/shreyas/XAIRT/examples_TomsQoI/model_simpleTests_LRP.h5\n",
      "8000/8000 [==============================] - 0s 8us/sample - loss: 0.0035 - mae: 0.0034 - val_loss: 0.0032 - val_mae: 0.0031 - lr: 0.0050\n",
      "Epoch 44/100\n",
      " 128/8000 [..............................] - ETA: 0s - loss: 0.0027 - mae: 0.0027\n",
      "Epoch 44: val_loss improved from 0.00315 to 0.00311, saving model to /home/shreyas/XAIRT/examples_TomsQoI/model_simpleTests_LRP.h5\n",
      "8000/8000 [==============================] - 0s 8us/sample - loss: 0.0034 - mae: 0.0034 - val_loss: 0.0031 - val_mae: 0.0031 - lr: 0.0050\n",
      "Epoch 45/100\n",
      " 128/8000 [..............................] - ETA: 0s - loss: 0.0040 - mae: 0.0040\n",
      "Epoch 45: val_loss improved from 0.00311 to 0.00307, saving model to /home/shreyas/XAIRT/examples_TomsQoI/model_simpleTests_LRP.h5\n",
      "8000/8000 [==============================] - 0s 8us/sample - loss: 0.0034 - mae: 0.0033 - val_loss: 0.0031 - val_mae: 0.0031 - lr: 0.0050\n",
      "Epoch 46/100\n",
      " 128/8000 [..............................] - ETA: 0s - loss: 0.0035 - mae: 0.0035\n",
      "Epoch 46: val_loss improved from 0.00307 to 0.00302, saving model to /home/shreyas/XAIRT/examples_TomsQoI/model_simpleTests_LRP.h5\n",
      "8000/8000 [==============================] - 0s 8us/sample - loss: 0.0033 - mae: 0.0033 - val_loss: 0.0030 - val_mae: 0.0030 - lr: 0.0050\n",
      "Epoch 47/100\n",
      " 128/8000 [..............................] - ETA: 0s - loss: 0.0039 - mae: 0.0039\n",
      "Epoch 47: val_loss improved from 0.00302 to 0.00298, saving model to /home/shreyas/XAIRT/examples_TomsQoI/model_simpleTests_LRP.h5\n",
      "8000/8000 [==============================] - 0s 8us/sample - loss: 0.0033 - mae: 0.0033 - val_loss: 0.0030 - val_mae: 0.0030 - lr: 0.0050\n",
      "Epoch 48/100\n",
      " 128/8000 [..............................] - ETA: 0s - loss: 0.0034 - mae: 0.0034\n",
      "Epoch 48: val_loss improved from 0.00298 to 0.00294, saving model to /home/shreyas/XAIRT/examples_TomsQoI/model_simpleTests_LRP.h5\n",
      "8000/8000 [==============================] - 0s 8us/sample - loss: 0.0032 - mae: 0.0032 - val_loss: 0.0029 - val_mae: 0.0029 - lr: 0.0050\n",
      "Epoch 49/100\n",
      " 128/8000 [..............................] - ETA: 0s - loss: 0.0026 - mae: 0.0026\n",
      "Epoch 49: val_loss improved from 0.00294 to 0.00290, saving model to /home/shreyas/XAIRT/examples_TomsQoI/model_simpleTests_LRP.h5\n",
      "8000/8000 [==============================] - 0s 8us/sample - loss: 0.0032 - mae: 0.0032 - val_loss: 0.0029 - val_mae: 0.0029 - lr: 0.0050\n",
      "Epoch 50/100\n",
      " 128/8000 [..............................] - ETA: 0s - loss: 0.0034 - mae: 0.0034\n",
      "Epoch 50: val_loss improved from 0.00290 to 0.00288, saving model to /home/shreyas/XAIRT/examples_TomsQoI/model_simpleTests_LRP.h5\n",
      "8000/8000 [==============================] - 0s 9us/sample - loss: 0.0032 - mae: 0.0031 - val_loss: 0.0029 - val_mae: 0.0029 - lr: 0.0025\n",
      "Epoch 51/100\n",
      " 128/8000 [..............................] - ETA: 0s - loss: 0.0031 - mae: 0.0031\n",
      "Epoch 51: val_loss improved from 0.00288 to 0.00286, saving model to /home/shreyas/XAIRT/examples_TomsQoI/model_simpleTests_LRP.h5\n",
      "8000/8000 [==============================] - 0s 8us/sample - loss: 0.0031 - mae: 0.0031 - val_loss: 0.0029 - val_mae: 0.0029 - lr: 0.0025\n",
      "Epoch 52/100\n",
      " 128/8000 [..............................] - ETA: 0s - loss: 0.0037 - mae: 0.0037\n",
      "Epoch 52: val_loss improved from 0.00286 to 0.00285, saving model to /home/shreyas/XAIRT/examples_TomsQoI/model_simpleTests_LRP.h5\n",
      "8000/8000 [==============================] - 0s 8us/sample - loss: 0.0031 - mae: 0.0031 - val_loss: 0.0028 - val_mae: 0.0028 - lr: 0.0025\n",
      "Epoch 53/100\n",
      " 128/8000 [..............................] - ETA: 0s - loss: 0.0031 - mae: 0.0031\n",
      "Epoch 53: val_loss improved from 0.00285 to 0.00283, saving model to /home/shreyas/XAIRT/examples_TomsQoI/model_simpleTests_LRP.h5\n",
      "8000/8000 [==============================] - 0s 8us/sample - loss: 0.0031 - mae: 0.0031 - val_loss: 0.0028 - val_mae: 0.0028 - lr: 0.0025\n",
      "Epoch 54/100\n",
      " 128/8000 [..............................] - ETA: 0s - loss: 0.0030 - mae: 0.0029\n",
      "Epoch 54: val_loss improved from 0.00283 to 0.00281, saving model to /home/shreyas/XAIRT/examples_TomsQoI/model_simpleTests_LRP.h5\n",
      "8000/8000 [==============================] - 0s 8us/sample - loss: 0.0031 - mae: 0.0031 - val_loss: 0.0028 - val_mae: 0.0028 - lr: 0.0025\n",
      "Epoch 55/100\n",
      " 128/8000 [..............................] - ETA: 0s - loss: 0.0025 - mae: 0.0025\n",
      "Epoch 55: val_loss improved from 0.00281 to 0.00279, saving model to /home/shreyas/XAIRT/examples_TomsQoI/model_simpleTests_LRP.h5\n",
      "8000/8000 [==============================] - 0s 7us/sample - loss: 0.0031 - mae: 0.0030 - val_loss: 0.0028 - val_mae: 0.0028 - lr: 0.0025\n",
      "Epoch 56/100\n",
      " 128/8000 [..............................] - ETA: 0s - loss: 0.0029 - mae: 0.0029\n",
      "Epoch 56: val_loss improved from 0.00279 to 0.00277, saving model to /home/shreyas/XAIRT/examples_TomsQoI/model_simpleTests_LRP.h5\n",
      "8000/8000 [==============================] - 0s 7us/sample - loss: 0.0030 - mae: 0.0030 - val_loss: 0.0028 - val_mae: 0.0028 - lr: 0.0025\n",
      "Epoch 57/100\n",
      " 128/8000 [..............................] - ETA: 0s - loss: 0.0036 - mae: 0.0035\n",
      "Epoch 57: val_loss improved from 0.00277 to 0.00276, saving model to /home/shreyas/XAIRT/examples_TomsQoI/model_simpleTests_LRP.h5\n",
      "8000/8000 [==============================] - 0s 8us/sample - loss: 0.0030 - mae: 0.0030 - val_loss: 0.0028 - val_mae: 0.0027 - lr: 0.0025\n",
      "Epoch 58/100\n",
      " 128/8000 [..............................] - ETA: 0s - loss: 0.0033 - mae: 0.0033\n",
      "Epoch 58: val_loss improved from 0.00276 to 0.00274, saving model to /home/shreyas/XAIRT/examples_TomsQoI/model_simpleTests_LRP.h5\n",
      "8000/8000 [==============================] - 0s 8us/sample - loss: 0.0030 - mae: 0.0030 - val_loss: 0.0027 - val_mae: 0.0027 - lr: 0.0025\n",
      "Epoch 59/100\n",
      " 128/8000 [..............................] - ETA: 0s - loss: 0.0028 - mae: 0.0028\n",
      "Epoch 59: val_loss improved from 0.00274 to 0.00272, saving model to /home/shreyas/XAIRT/examples_TomsQoI/model_simpleTests_LRP.h5\n",
      "8000/8000 [==============================] - 0s 8us/sample - loss: 0.0030 - mae: 0.0030 - val_loss: 0.0027 - val_mae: 0.0027 - lr: 0.0025\n",
      "Epoch 60/100\n",
      " 128/8000 [..............................] - ETA: 0s - loss: 0.0034 - mae: 0.0034\n",
      "Epoch 60: val_loss improved from 0.00272 to 0.00271, saving model to /home/shreyas/XAIRT/examples_TomsQoI/model_simpleTests_LRP.h5\n",
      "8000/8000 [==============================] - 0s 8us/sample - loss: 0.0030 - mae: 0.0030 - val_loss: 0.0027 - val_mae: 0.0027 - lr: 0.0025\n",
      "Epoch 61/100\n",
      " 128/8000 [..............................] - ETA: 0s - loss: 0.0030 - mae: 0.0030\n",
      "Epoch 61: val_loss improved from 0.00271 to 0.00269, saving model to /home/shreyas/XAIRT/examples_TomsQoI/model_simpleTests_LRP.h5\n",
      "8000/8000 [==============================] - 0s 8us/sample - loss: 0.0029 - mae: 0.0029 - val_loss: 0.0027 - val_mae: 0.0027 - lr: 0.0025\n",
      "Epoch 62/100\n",
      " 128/8000 [..............................] - ETA: 0s - loss: 0.0026 - mae: 0.0026\n",
      "Epoch 62: val_loss improved from 0.00269 to 0.00267, saving model to /home/shreyas/XAIRT/examples_TomsQoI/model_simpleTests_LRP.h5\n",
      "8000/8000 [==============================] - 0s 8us/sample - loss: 0.0029 - mae: 0.0029 - val_loss: 0.0027 - val_mae: 0.0027 - lr: 0.0025\n",
      "Epoch 63/100\n",
      " 128/8000 [..............................] - ETA: 0s - loss: 0.0024 - mae: 0.0024\n",
      "Epoch 63: val_loss improved from 0.00267 to 0.00266, saving model to /home/shreyas/XAIRT/examples_TomsQoI/model_simpleTests_LRP.h5\n",
      "8000/8000 [==============================] - 0s 8us/sample - loss: 0.0029 - mae: 0.0029 - val_loss: 0.0027 - val_mae: 0.0026 - lr: 0.0025\n",
      "Epoch 64/100\n",
      " 128/8000 [..............................] - ETA: 0s - loss: 0.0030 - mae: 0.0029\n",
      "Epoch 64: val_loss improved from 0.00266 to 0.00264, saving model to /home/shreyas/XAIRT/examples_TomsQoI/model_simpleTests_LRP.h5\n",
      "8000/8000 [==============================] - 0s 8us/sample - loss: 0.0029 - mae: 0.0029 - val_loss: 0.0026 - val_mae: 0.0026 - lr: 0.0025\n",
      "Epoch 65/100\n",
      " 128/8000 [..............................] - ETA: 0s - loss: 0.0032 - mae: 0.0032\n",
      "Epoch 65: val_loss improved from 0.00264 to 0.00263, saving model to /home/shreyas/XAIRT/examples_TomsQoI/model_simpleTests_LRP.h5\n",
      "8000/8000 [==============================] - 0s 8us/sample - loss: 0.0029 - mae: 0.0029 - val_loss: 0.0026 - val_mae: 0.0026 - lr: 0.0025\n",
      "Epoch 66/100\n",
      " 128/8000 [..............................] - ETA: 0s - loss: 0.0029 - mae: 0.0029\n",
      "Epoch 66: val_loss improved from 0.00263 to 0.00261, saving model to /home/shreyas/XAIRT/examples_TomsQoI/model_simpleTests_LRP.h5\n",
      "8000/8000 [==============================] - 0s 8us/sample - loss: 0.0029 - mae: 0.0028 - val_loss: 0.0026 - val_mae: 0.0026 - lr: 0.0025\n",
      "Epoch 67/100\n",
      " 128/8000 [..............................] - ETA: 0s - loss: 0.0023 - mae: 0.0023\n",
      "Epoch 67: val_loss improved from 0.00261 to 0.00260, saving model to /home/shreyas/XAIRT/examples_TomsQoI/model_simpleTests_LRP.h5\n",
      "8000/8000 [==============================] - 0s 8us/sample - loss: 0.0028 - mae: 0.0028 - val_loss: 0.0026 - val_mae: 0.0026 - lr: 0.0025\n",
      "Epoch 68/100\n",
      " 128/8000 [..............................] - ETA: 0s - loss: 0.0035 - mae: 0.0035\n",
      "Epoch 68: val_loss improved from 0.00260 to 0.00258, saving model to /home/shreyas/XAIRT/examples_TomsQoI/model_simpleTests_LRP.h5\n",
      "8000/8000 [==============================] - 0s 8us/sample - loss: 0.0028 - mae: 0.0028 - val_loss: 0.0026 - val_mae: 0.0026 - lr: 0.0025\n",
      "Epoch 69/100\n",
      " 128/8000 [..............................] - ETA: 0s - loss: 0.0030 - mae: 0.0030\n",
      "Epoch 69: val_loss improved from 0.00258 to 0.00257, saving model to /home/shreyas/XAIRT/examples_TomsQoI/model_simpleTests_LRP.h5\n",
      "8000/8000 [==============================] - 0s 8us/sample - loss: 0.0028 - mae: 0.0028 - val_loss: 0.0026 - val_mae: 0.0026 - lr: 0.0025\n",
      "Epoch 70/100\n",
      " 128/8000 [..............................] - ETA: 0s - loss: 0.0024 - mae: 0.0024\n",
      "Epoch 70: val_loss improved from 0.00257 to 0.00255, saving model to /home/shreyas/XAIRT/examples_TomsQoI/model_simpleTests_LRP.h5\n",
      "8000/8000 [==============================] - 0s 8us/sample - loss: 0.0028 - mae: 0.0028 - val_loss: 0.0026 - val_mae: 0.0025 - lr: 0.0025\n",
      "Epoch 71/100\n",
      " 128/8000 [..............................] - ETA: 0s - loss: 0.0028 - mae: 0.0028\n",
      "Epoch 71: val_loss improved from 0.00255 to 0.00254, saving model to /home/shreyas/XAIRT/examples_TomsQoI/model_simpleTests_LRP.h5\n",
      "8000/8000 [==============================] - 0s 8us/sample - loss: 0.0028 - mae: 0.0028 - val_loss: 0.0025 - val_mae: 0.0025 - lr: 0.0025\n",
      "Epoch 72/100\n",
      " 128/8000 [..............................] - ETA: 0s - loss: 0.0027 - mae: 0.0027\n",
      "Epoch 72: val_loss improved from 0.00254 to 0.00252, saving model to /home/shreyas/XAIRT/examples_TomsQoI/model_simpleTests_LRP.h5\n",
      "8000/8000 [==============================] - 0s 8us/sample - loss: 0.0028 - mae: 0.0028 - val_loss: 0.0025 - val_mae: 0.0025 - lr: 0.0025\n",
      "Epoch 73/100\n",
      " 128/8000 [..............................] - ETA: 0s - loss: 0.0025 - mae: 0.0025\n",
      "Epoch 73: val_loss improved from 0.00252 to 0.00251, saving model to /home/shreyas/XAIRT/examples_TomsQoI/model_simpleTests_LRP.h5\n",
      "8000/8000 [==============================] - 0s 8us/sample - loss: 0.0027 - mae: 0.0027 - val_loss: 0.0025 - val_mae: 0.0025 - lr: 0.0025\n",
      "Epoch 74/100\n",
      " 128/8000 [..............................] - ETA: 0s - loss: 0.0026 - mae: 0.0026\n",
      "Epoch 74: val_loss improved from 0.00251 to 0.00249, saving model to /home/shreyas/XAIRT/examples_TomsQoI/model_simpleTests_LRP.h5\n",
      "8000/8000 [==============================] - 0s 8us/sample - loss: 0.0027 - mae: 0.0027 - val_loss: 0.0025 - val_mae: 0.0025 - lr: 0.0025\n",
      "Epoch 75/100\n",
      " 128/8000 [..............................] - ETA: 0s - loss: 0.0025 - mae: 0.0025\n",
      "Epoch 75: val_loss improved from 0.00249 to 0.00249, saving model to /home/shreyas/XAIRT/examples_TomsQoI/model_simpleTests_LRP.h5\n",
      "8000/8000 [==============================] - 0s 8us/sample - loss: 0.0027 - mae: 0.0027 - val_loss: 0.0025 - val_mae: 0.0025 - lr: 0.0012\n",
      "Epoch 76/100\n",
      " 128/8000 [..............................] - ETA: 0s - loss: 0.0027 - mae: 0.0026\n",
      "Epoch 76: val_loss improved from 0.00249 to 0.00248, saving model to /home/shreyas/XAIRT/examples_TomsQoI/model_simpleTests_LRP.h5\n",
      "8000/8000 [==============================] - 0s 8us/sample - loss: 0.0027 - mae: 0.0027 - val_loss: 0.0025 - val_mae: 0.0025 - lr: 0.0012\n",
      "Epoch 77/100\n",
      " 128/8000 [..............................] - ETA: 0s - loss: 0.0026 - mae: 0.0026\n",
      "Epoch 77: val_loss improved from 0.00248 to 0.00247, saving model to /home/shreyas/XAIRT/examples_TomsQoI/model_simpleTests_LRP.h5\n",
      "8000/8000 [==============================] - 0s 8us/sample - loss: 0.0027 - mae: 0.0027 - val_loss: 0.0025 - val_mae: 0.0025 - lr: 0.0012\n",
      "Epoch 78/100\n",
      " 128/8000 [..............................] - ETA: 0s - loss: 0.0028 - mae: 0.0028\n",
      "Epoch 78: val_loss improved from 0.00247 to 0.00247, saving model to /home/shreyas/XAIRT/examples_TomsQoI/model_simpleTests_LRP.h5\n",
      "8000/8000 [==============================] - 0s 8us/sample - loss: 0.0027 - mae: 0.0027 - val_loss: 0.0025 - val_mae: 0.0025 - lr: 0.0012\n",
      "Epoch 79/100\n",
      " 128/8000 [..............................] - ETA: 0s - loss: 0.0031 - mae: 0.0031\n",
      "Epoch 79: val_loss improved from 0.00247 to 0.00246, saving model to /home/shreyas/XAIRT/examples_TomsQoI/model_simpleTests_LRP.h5\n",
      "8000/8000 [==============================] - 0s 8us/sample - loss: 0.0027 - mae: 0.0027 - val_loss: 0.0025 - val_mae: 0.0025 - lr: 0.0012\n",
      "Epoch 80/100\n",
      " 128/8000 [..............................] - ETA: 0s - loss: 0.0026 - mae: 0.0026\n",
      "Epoch 80: val_loss improved from 0.00246 to 0.00245, saving model to /home/shreyas/XAIRT/examples_TomsQoI/model_simpleTests_LRP.h5\n",
      "8000/8000 [==============================] - 0s 8us/sample - loss: 0.0027 - mae: 0.0027 - val_loss: 0.0025 - val_mae: 0.0024 - lr: 0.0012\n",
      "Epoch 81/100\n",
      " 128/8000 [..............................] - ETA: 0s - loss: 0.0024 - mae: 0.0024\n",
      "Epoch 81: val_loss improved from 0.00245 to 0.00245, saving model to /home/shreyas/XAIRT/examples_TomsQoI/model_simpleTests_LRP.h5\n",
      "8000/8000 [==============================] - 0s 8us/sample - loss: 0.0027 - mae: 0.0027 - val_loss: 0.0024 - val_mae: 0.0024 - lr: 0.0012\n",
      "Epoch 82/100\n",
      " 128/8000 [..............................] - ETA: 0s - loss: 0.0027 - mae: 0.0027\n",
      "Epoch 82: val_loss improved from 0.00245 to 0.00244, saving model to /home/shreyas/XAIRT/examples_TomsQoI/model_simpleTests_LRP.h5\n",
      "8000/8000 [==============================] - 0s 8us/sample - loss: 0.0027 - mae: 0.0027 - val_loss: 0.0024 - val_mae: 0.0024 - lr: 0.0012\n",
      "Epoch 83/100\n",
      " 128/8000 [..............................] - ETA: 0s - loss: 0.0027 - mae: 0.0027\n",
      "Epoch 83: val_loss improved from 0.00244 to 0.00243, saving model to /home/shreyas/XAIRT/examples_TomsQoI/model_simpleTests_LRP.h5\n",
      "8000/8000 [==============================] - 0s 8us/sample - loss: 0.0027 - mae: 0.0027 - val_loss: 0.0024 - val_mae: 0.0024 - lr: 0.0012\n",
      "Epoch 84/100\n",
      " 128/8000 [..............................] - ETA: 0s - loss: 0.0022 - mae: 0.0022\n",
      "Epoch 84: val_loss improved from 0.00243 to 0.00243, saving model to /home/shreyas/XAIRT/examples_TomsQoI/model_simpleTests_LRP.h5\n",
      "8000/8000 [==============================] - 0s 8us/sample - loss: 0.0027 - mae: 0.0026 - val_loss: 0.0024 - val_mae: 0.0024 - lr: 0.0012\n",
      "Epoch 85/100\n",
      " 128/8000 [..............................] - ETA: 0s - loss: 0.0024 - mae: 0.0024\n",
      "Epoch 85: val_loss improved from 0.00243 to 0.00242, saving model to /home/shreyas/XAIRT/examples_TomsQoI/model_simpleTests_LRP.h5\n",
      "8000/8000 [==============================] - 0s 8us/sample - loss: 0.0026 - mae: 0.0026 - val_loss: 0.0024 - val_mae: 0.0024 - lr: 0.0012\n",
      "Epoch 86/100\n",
      " 128/8000 [..............................] - ETA: 0s - loss: 0.0024 - mae: 0.0023\n",
      "Epoch 86: val_loss improved from 0.00242 to 0.00241, saving model to /home/shreyas/XAIRT/examples_TomsQoI/model_simpleTests_LRP.h5\n",
      "8000/8000 [==============================] - 0s 8us/sample - loss: 0.0026 - mae: 0.0026 - val_loss: 0.0024 - val_mae: 0.0024 - lr: 0.0012\n",
      "Epoch 87/100\n",
      " 128/8000 [..............................] - ETA: 0s - loss: 0.0030 - mae: 0.0030\n",
      "Epoch 87: val_loss improved from 0.00241 to 0.00241, saving model to /home/shreyas/XAIRT/examples_TomsQoI/model_simpleTests_LRP.h5\n",
      "8000/8000 [==============================] - 0s 8us/sample - loss: 0.0026 - mae: 0.0026 - val_loss: 0.0024 - val_mae: 0.0024 - lr: 0.0012\n",
      "Epoch 88/100\n",
      " 128/8000 [..............................] - ETA: 0s - loss: 0.0023 - mae: 0.0023\n",
      "Epoch 88: val_loss improved from 0.00241 to 0.00240, saving model to /home/shreyas/XAIRT/examples_TomsQoI/model_simpleTests_LRP.h5\n",
      "8000/8000 [==============================] - 0s 8us/sample - loss: 0.0026 - mae: 0.0026 - val_loss: 0.0024 - val_mae: 0.0024 - lr: 0.0012\n",
      "Epoch 89/100\n",
      " 128/8000 [..............................] - ETA: 0s - loss: 0.0030 - mae: 0.0030\n",
      "Epoch 89: val_loss improved from 0.00240 to 0.00239, saving model to /home/shreyas/XAIRT/examples_TomsQoI/model_simpleTests_LRP.h5\n",
      "8000/8000 [==============================] - 0s 8us/sample - loss: 0.0026 - mae: 0.0026 - val_loss: 0.0024 - val_mae: 0.0024 - lr: 0.0012\n",
      "Epoch 90/100\n",
      " 128/8000 [..............................] - ETA: 0s - loss: 0.0027 - mae: 0.0027\n",
      "Epoch 90: val_loss improved from 0.00239 to 0.00239, saving model to /home/shreyas/XAIRT/examples_TomsQoI/model_simpleTests_LRP.h5\n",
      "8000/8000 [==============================] - 0s 8us/sample - loss: 0.0026 - mae: 0.0026 - val_loss: 0.0024 - val_mae: 0.0024 - lr: 0.0012\n",
      "Epoch 91/100\n",
      " 128/8000 [..............................] - ETA: 0s - loss: 0.0026 - mae: 0.0026\n",
      "Epoch 91: val_loss improved from 0.00239 to 0.00238, saving model to /home/shreyas/XAIRT/examples_TomsQoI/model_simpleTests_LRP.h5\n",
      "8000/8000 [==============================] - 0s 8us/sample - loss: 0.0026 - mae: 0.0026 - val_loss: 0.0024 - val_mae: 0.0024 - lr: 0.0012\n",
      "Epoch 92/100\n",
      " 128/8000 [..............................] - ETA: 0s - loss: 0.0024 - mae: 0.0024\n",
      "Epoch 92: val_loss improved from 0.00238 to 0.00237, saving model to /home/shreyas/XAIRT/examples_TomsQoI/model_simpleTests_LRP.h5\n",
      "8000/8000 [==============================] - 0s 8us/sample - loss: 0.0026 - mae: 0.0026 - val_loss: 0.0024 - val_mae: 0.0024 - lr: 0.0012\n",
      "Epoch 93/100\n",
      " 128/8000 [..............................] - ETA: 0s - loss: 0.0027 - mae: 0.0027\n",
      "Epoch 93: val_loss improved from 0.00237 to 0.00237, saving model to /home/shreyas/XAIRT/examples_TomsQoI/model_simpleTests_LRP.h5\n",
      "8000/8000 [==============================] - 0s 8us/sample - loss: 0.0026 - mae: 0.0026 - val_loss: 0.0024 - val_mae: 0.0024 - lr: 0.0012\n",
      "Epoch 94/100\n",
      " 128/8000 [..............................] - ETA: 0s - loss: 0.0029 - mae: 0.0029\n",
      "Epoch 94: val_loss improved from 0.00237 to 0.00236, saving model to /home/shreyas/XAIRT/examples_TomsQoI/model_simpleTests_LRP.h5\n",
      "8000/8000 [==============================] - 0s 8us/sample - loss: 0.0026 - mae: 0.0026 - val_loss: 0.0024 - val_mae: 0.0024 - lr: 0.0012\n",
      "Epoch 95/100\n",
      " 128/8000 [..............................] - ETA: 0s - loss: 0.0029 - mae: 0.0029\n",
      "Epoch 95: val_loss improved from 0.00236 to 0.00235, saving model to /home/shreyas/XAIRT/examples_TomsQoI/model_simpleTests_LRP.h5\n",
      "8000/8000 [==============================] - 0s 8us/sample - loss: 0.0026 - mae: 0.0026 - val_loss: 0.0024 - val_mae: 0.0023 - lr: 0.0012\n",
      "Epoch 96/100\n",
      " 128/8000 [..............................] - ETA: 0s - loss: 0.0026 - mae: 0.0026\n",
      "Epoch 96: val_loss improved from 0.00235 to 0.00235, saving model to /home/shreyas/XAIRT/examples_TomsQoI/model_simpleTests_LRP.h5\n",
      "8000/8000 [==============================] - 0s 8us/sample - loss: 0.0026 - mae: 0.0026 - val_loss: 0.0023 - val_mae: 0.0023 - lr: 0.0012\n",
      "Epoch 97/100\n",
      " 128/8000 [..............................] - ETA: 0s - loss: 0.0021 - mae: 0.0021\n",
      "Epoch 97: val_loss improved from 0.00235 to 0.00234, saving model to /home/shreyas/XAIRT/examples_TomsQoI/model_simpleTests_LRP.h5\n",
      "8000/8000 [==============================] - 0s 8us/sample - loss: 0.0026 - mae: 0.0026 - val_loss: 0.0023 - val_mae: 0.0023 - lr: 0.0012\n",
      "Epoch 98/100\n",
      " 128/8000 [..............................] - ETA: 0s - loss: 0.0020 - mae: 0.0019\n",
      "Epoch 98: val_loss improved from 0.00234 to 0.00234, saving model to /home/shreyas/XAIRT/examples_TomsQoI/model_simpleTests_LRP.h5\n",
      "8000/8000 [==============================] - 0s 8us/sample - loss: 0.0026 - mae: 0.0025 - val_loss: 0.0023 - val_mae: 0.0023 - lr: 0.0012\n",
      "Epoch 99/100\n",
      " 128/8000 [..............................] - ETA: 0s - loss: 0.0023 - mae: 0.0023\n",
      "Epoch 99: val_loss improved from 0.00234 to 0.00233, saving model to /home/shreyas/XAIRT/examples_TomsQoI/model_simpleTests_LRP.h5\n",
      "8000/8000 [==============================] - 0s 8us/sample - loss: 0.0025 - mae: 0.0025 - val_loss: 0.0023 - val_mae: 0.0023 - lr: 0.0012\n",
      "Epoch 100/100\n",
      " 128/8000 [..............................] - ETA: 0s - loss: 0.0028 - mae: 0.0028\n",
      "Epoch 100: val_loss improved from 0.00233 to 0.00233, saving model to /home/shreyas/XAIRT/examples_TomsQoI/model_simpleTests_LRP.h5\n",
      "8000/8000 [==============================] - 0s 8us/sample - loss: 0.0025 - mae: 0.0025 - val_loss: 0.0023 - val_mae: 0.0023 - lr: 6.2500e-04\n"
     ]
    }
   ],
   "source": [
    "Layers = [{'size': X.shape[1], 'activation': None     , 'use_bias': None},\n",
    "          {'size': 2         , 'activation': 'softmax', 'use_bias': True, 'bias_constraint': NonNeg()}]\n",
    "Losses = [{'kind': 'categorical_crossentropy', 'weight': 1.0}]\n",
    "\n",
    "NNkwargs = {'losses': Losses, 'metrics': ['mae'],\n",
    "            'batch_size': 128, 'epochs': 100, 'validation_split': 0.2,\n",
    "            'filename': 'model_simpleTests_LRP', 'dirname': os.path.abspath(''),\n",
    "            'random_nn_seed': 42}\n",
    "\n",
    "# learning rate schedule\n",
    "def step_decay(epoch):\n",
    "    initial_lrate = 0.01\n",
    "    drop = 0.5\n",
    "    epochs_drop = 25\n",
    "    lrate = initial_lrate * drop**np.floor((1+epoch)/epochs_drop)\n",
    "    return lrate\n",
    "\n",
    "keras.backend.clear_session()\n",
    "sgd = keras.optimizers.SGD(learning_rate=0.01, momentum=0.9, nesterov=True)\n",
    "NNkwargs['optimizer'] = sgd\n",
    "\n",
    "K = TrainFullyConnectedNN(X, oneHot, layers = Layers, **NNkwargs)\n",
    "best_model = K.quickTrain(step_decay)\n",
    "model_wo_softmax = innvestigate.model_wo_softmax(best_model)\n",
    "oneHot_NN = best_model.predict(X)"
   ]
  },
  {
   "cell_type": "code",
   "execution_count": 4,
   "id": "a1d8c161-97b5-4a70-a3c3-1951fefe721d",
   "metadata": {},
   "outputs": [
    {
     "data": {
      "text/plain": [
       "(array([[-2.90262032e-08, -9.26665775e-08]]),\n",
       " array([[-0.57969177,  4.0242186 ]], dtype=float32),\n",
       " array([[-1.6955947,  1.2197948],\n",
       "        [-2.0202467,  1.2793037]], dtype=float32),\n",
       " array([-0.       ,  3.6343434], dtype=float32),\n",
       " array([[0.15601864, 0.15599452]]))"
      ]
     },
     "execution_count": 4,
     "metadata": {},
     "output_type": "execute_result"
    }
   ],
   "source": [
    "idx = 2\n",
    "pred_class = 1\n",
    "x = X[np.newaxis,idx]\n",
    "y_true = model_wo_softmax.predict(x)\n",
    "W = model_wo_softmax.layers[1].get_weights()[0]\n",
    "b = model_wo_softmax.layers[1].get_weights()[1]\n",
    "R_last = y_true[0,pred_class]\n",
    "x@W+b-y_true, y_true, W, b, x"
   ]
  },
  {
   "cell_type": "code",
   "execution_count": 5,
   "id": "64f3c1dd-2e29-4346-bb4f-abd22030eb34",
   "metadata": {},
   "outputs": [
    {
     "data": {
      "text/plain": [
       "(1.1634755366141114e-05, 0.9999248268331765)"
      ]
     },
     "execution_count": 5,
     "metadata": {},
     "output_type": "execute_result"
    }
   ],
   "source": [
    "np.min(X), np.max(X)"
   ]
  },
  {
   "cell_type": "markdown",
   "id": "c83eb6b6-6e73-454b-a847-66c922946b12",
   "metadata": {},
   "source": [
    "### Understanding LRP-A1B0"
   ]
  },
  {
   "cell_type": "code",
   "execution_count": 6,
   "id": "cfd0f3d0-d6d0-4dc1-9eef-9d15798f1f7c",
   "metadata": {},
   "outputs": [
    {
     "name": "stdout",
     "output_type": "stream",
     "text": [
      "lrp.alpha_1_beta_0: [[0.19031072 0.19956437]], 3.634343385696411\n"
     ]
    }
   ],
   "source": [
    "Analyze = innvestigate.create_analyzer('lrp.alpha_1_beta_0', model_wo_softmax)\n",
    "a = Analyze.analyze(x)\n",
    "print(f\"lrp.alpha_1_beta_0: {a}, {y_true[0,pred_class]-np.sum(a)}\")"
   ]
  },
  {
   "cell_type": "code",
   "execution_count": 7,
   "id": "27dcfd2e-7b99-4885-88d7-6a8d1a85bee9",
   "metadata": {},
   "outputs": [
    {
     "name": "stdout",
     "output_type": "stream",
     "text": [
      "lrp.alpha_1_beta_0_IB: [[1.9643521 2.0598667]], 0.0\n"
     ]
    }
   ],
   "source": [
    "Analyze = innvestigate.create_analyzer('lrp.alpha_1_beta_0_IB', model_wo_softmax)\n",
    "a = Analyze.analyze(x)\n",
    "print(f\"lrp.alpha_1_beta_0_IB: {a}, {R_last-np.sum(a)}\")"
   ]
  },
  {
   "cell_type": "code",
   "execution_count": 8,
   "id": "5bfe233e-aa79-4434-b50d-2d91b2790d88",
   "metadata": {},
   "outputs": [
    {
     "name": "stdout",
     "output_type": "stream",
     "text": [
      "Manual LRP-A1BO: 2.009678099610094,2.0145404596550422, 4.440892098500626e-16\n"
     ]
    }
   ],
   "source": [
    "denominator = x[0,0]*np.max(W[0,pred_class],0)+x[0,1]*np.max(W[1,pred_class],0)+2*np.max(b[pred_class],0)\n",
    "R_0 = R_last * (x[0,0]*np.max(W[0,pred_class],0)+np.max(b[pred_class],0)) / denominator\n",
    "R_1 = R_last * (x[0,1]*np.max(W[1,pred_class],0)+np.max(b[pred_class],0)) / denominator\n",
    "print(f\"Manual LRP-A1BO: {R_0},{R_1}, {R_last-R_0-R_1}\")"
   ]
  },
  {
   "cell_type": "code",
   "execution_count": 9,
   "id": "370b3f59-845f-4527-86e2-fdfab1ffa4bd",
   "metadata": {},
   "outputs": [
    {
     "name": "stdout",
     "output_type": "stream",
     "text": [
      "Manual LRP-A1BO without bias in numerator and only one bias in denominator: 0.19031072292947834,0.1995643669504099, 3.6343434693852483\n"
     ]
    }
   ],
   "source": [
    "denominator = x[0,0]*np.max(W[0,pred_class],0)+x[0,1]*np.max(W[1,pred_class],0)+np.max(b[pred_class],0)\n",
    "R_0 = R_last * (x[0,0]*np.max(W[0,pred_class],0)) / denominator\n",
    "R_1 = R_last * (x[0,1]*np.max(W[1,pred_class],0)) / denominator\n",
    "print(f\"Manual LRP-A1BO without bias in numerator and only one bias in denominator: {R_0},{R_1}, {R_last-R_0-R_1}\")"
   ]
  },
  {
   "cell_type": "code",
   "execution_count": 10,
   "id": "c9236cf3-5cca-4bf3-8af0-e9fae41d97fd",
   "metadata": {},
   "outputs": [
    {
     "name": "stdout",
     "output_type": "stream",
     "text": [
      "Manual LRP-A1BO without bias in both numerator and denominator: 1.9643520787027295,2.059866480562407, 0.0\n"
     ]
    }
   ],
   "source": [
    "denominator = x[0,0]*np.max(W[0,pred_class],0)+x[0,1]*np.max(W[1,pred_class],0)\n",
    "R_0 = R_last * (x[0,0]*np.max(W[0,pred_class],0)) / denominator\n",
    "R_1 = R_last * (x[0,1]*np.max(W[1,pred_class],0)) / denominator\n",
    "print(f\"Manual LRP-A1BO without bias in both numerator and denominator: {R_0},{R_1}, {R_last-R_0-R_1}\")"
   ]
  },
  {
   "cell_type": "markdown",
   "id": "027acf65-8e6f-45de-821a-e0c03f4bdb60",
   "metadata": {},
   "source": [
    "### Understanding LRP-W2"
   ]
  },
  {
   "cell_type": "code",
   "execution_count": 11,
   "id": "1eef405c-2017-4425-8ca0-26ae80b2352a",
   "metadata": {},
   "outputs": [
    {
     "name": "stdout",
     "output_type": "stream",
     "text": [
      "lrp.alpha_1_beta_0: [[1.9163382 2.1078804]], 0.0\n"
     ]
    }
   ],
   "source": [
    "Analyze = innvestigate.create_analyzer('lrp.alpha_1_beta_0', model_wo_softmax, input_layer_rule='WSquare')\n",
    "a = Analyze.analyze(x)\n",
    "print(f\"lrp.alpha_1_beta_0: {a}, {R_last-np.sum(a)}\")"
   ]
  },
  {
   "cell_type": "code",
   "execution_count": 12,
   "id": "7dfb4e8c-3aad-4017-81cf-7a4edf4a6c00",
   "metadata": {},
   "outputs": [
    {
     "name": "stdout",
     "output_type": "stream",
     "text": [
      "lrp.alpha_1_beta_0_IB: [[1.9163382 2.1078804]], 0.0\n"
     ]
    }
   ],
   "source": [
    "Analyze = innvestigate.create_analyzer('lrp.alpha_1_beta_0_IB', model_wo_softmax, input_layer_rule='WSquare')\n",
    "\n",
    "a = Analyze.analyze(x)\n",
    "\n",
    "print(f\"lrp.alpha_1_beta_0_IB: {a}, {R_last-np.sum(a)}\")"
   ]
  },
  {
   "cell_type": "code",
   "execution_count": 13,
   "id": "a42b0b55-54aa-438c-8ae3-5263899ecc0d",
   "metadata": {},
   "outputs": [
    {
     "name": "stdout",
     "output_type": "stream",
     "text": [
      "Manual LRP-WSquare: 1.9163382662566082,2.1078802930085283, 0.0\n"
     ]
    }
   ],
   "source": [
    "denominator = W[0,pred_class]**2 + W[1,pred_class]**2\n",
    "R_0 = R_last * W[0,pred_class]**2 / denominator\n",
    "R_1 = R_last * W[1,pred_class]**2 / denominator\n",
    "print(f\"Manual LRP-WSquare: {R_0},{R_1}, {R_last-R_0-R_1}\")"
   ]
  },
  {
   "cell_type": "markdown",
   "id": "d99d7849-09b7-4fec-a2ce-9d5ba82410ab",
   "metadata": {},
   "source": [
    "### Understanding LRP-Bounded"
   ]
  },
  {
   "cell_type": "code",
   "execution_count": 14,
   "id": "cf34ebd3-f558-46b0-b7f8-3580e0e0f404",
   "metadata": {},
   "outputs": [
    {
     "name": "stdout",
     "output_type": "stream",
     "text": [
      "lrp.alpha_1_beta_0 bounded: [[1.9642177 2.060001 ]], 0.0\n"
     ]
    }
   ],
   "source": [
    "Analyze = innvestigate.create_analyzer('lrp.alpha_1_beta_0', model_wo_softmax, input_layer_rule='Bounded')\n",
    "a = Analyze.analyze(x)\n",
    "print(f\"lrp.alpha_1_beta_0 bounded: {a}, {R_last-np.sum(a)}\")"
   ]
  },
  {
   "cell_type": "code",
   "execution_count": 15,
   "id": "fccf3813-964c-4b94-b696-0550eb597411",
   "metadata": {},
   "outputs": [
    {
     "name": "stdout",
     "output_type": "stream",
     "text": [
      "lrp.alpha_1_beta_0 custom bounds: [[1.9641943 2.0600235]], 9.5367431640625e-07\n"
     ]
    }
   ],
   "source": [
    "Analyze = innvestigate.create_analyzer('lrp.alpha_1_beta_0', model_wo_softmax, input_layer_rule=(13,9))\n",
    "a = Analyze.analyze(x)\n",
    "print(f\"lrp.alpha_1_beta_0 custom bounds: {a}, {R_last-np.sum(a)}\")"
   ]
  },
  {
   "cell_type": "code",
   "execution_count": 16,
   "id": "d8b9ee2c-ec0a-41bf-948a-9671b69b2ef8",
   "metadata": {},
   "outputs": [
    {
     "name": "stdout",
     "output_type": "stream",
     "text": [
      "lrp.alpha_1_beta_0_IB bounded: [[1.9642177 2.060001 ]], 0.0\n"
     ]
    }
   ],
   "source": [
    "Analyze = innvestigate.create_analyzer('lrp.alpha_1_beta_0_IB', model_wo_softmax, input_layer_rule='Bounded')\n",
    "a = Analyze.analyze(x)\n",
    "print(f\"lrp.alpha_1_beta_0_IB bounded: {a}, {R_last-np.sum(a)}\")"
   ]
  },
  {
   "cell_type": "code",
   "execution_count": 17,
   "id": "d57a9cc8-5a11-4058-8a99-24f871eb7dfd",
   "metadata": {},
   "outputs": [
    {
     "name": "stdout",
     "output_type": "stream",
     "text": [
      "lrp.alpha_1_beta_0_IB custom bounds: [[1.9641943 2.0600235]], 9.5367431640625e-07\n"
     ]
    }
   ],
   "source": [
    "Analyze = innvestigate.create_analyzer('lrp.alpha_1_beta_0_IB', model_wo_softmax, input_layer_rule=(13,9))\n",
    "a = Analyze.analyze(x)\n",
    "print(f\"lrp.alpha_1_beta_0_IB custom bounds: {a}, {R_last-np.sum(a)}\")"
   ]
  },
  {
   "cell_type": "code",
   "execution_count": 18,
   "id": "2e00fb61-7898-4d51-97fe-c643d4deb885",
   "metadata": {},
   "outputs": [
    {
     "name": "stdout",
     "output_type": "stream",
     "text": [
      "Manual LRP-Bounded: 1.9643520787027293,2.0598664805624076, -4.440892098500626e-16\n"
     ]
    }
   ],
   "source": [
    "low = -1\n",
    "high = 1\n",
    "denominator = x[0,0]*W[0,pred_class]+x[0,1]*W[1,pred_class] \\\n",
    "            -low*(np.max(W[0,pred_class],0)+np.max(W[1,pred_class],0)) \\\n",
    "            -high*(np.min(W[0,pred_class],0)+np.min(W[1,pred_class],0))\n",
    "R_0 = R_last * (x[0,0]*W[0,pred_class]-low*np.max(W[0,pred_class],0)-high*np.min(W[0,pred_class],0)) / denominator\n",
    "R_1 = R_last * (x[0,1]*W[1,pred_class]-low*np.max(W[1,pred_class],0)-high*np.min(W[1,pred_class],0)) / denominator\n",
    "print(f\"Manual LRP-Bounded: {R_0},{R_1}, {R_last-R_0-R_1}\")"
   ]
  },
  {
   "cell_type": "code",
   "execution_count": 19,
   "id": "5c8f40e4-9d2c-4c6e-a9aa-87e7aa252a83",
   "metadata": {},
   "outputs": [
    {
     "name": "stdout",
     "output_type": "stream",
     "text": [
      "Manual LRP-Bounded with custom bounds: 1.9643520787027318,2.0598664805624045, 4.440892098500626e-16\n"
     ]
    }
   ],
   "source": [
    "low = -20\n",
    "high = 20\n",
    "denominator = x[0,0]*W[0,pred_class]+x[0,1]*W[1,pred_class] \\\n",
    "            -low*(np.max(W[0,pred_class],0)+np.max(W[1,pred_class],0)) \\\n",
    "            -high*(np.min(W[0,pred_class],0)+np.min(W[1,pred_class],0))\n",
    "R_0 = R_last * (x[0,0]*W[0,pred_class]-low*np.max(W[0,pred_class],0)-high*np.min(W[0,pred_class],0)) / denominator\n",
    "R_1 = R_last * (x[0,1]*W[1,pred_class]-low*np.max(W[1,pred_class],0)-high*np.min(W[1,pred_class],0)) / denominator\n",
    "print(f\"Manual LRP-Bounded with custom bounds: {R_0},{R_1}, {R_last-R_0-R_1}\")"
   ]
  },
  {
   "cell_type": "code",
   "execution_count": 20,
   "id": "17cab3b1-37ea-4533-b927-2df275999342",
   "metadata": {},
   "outputs": [
    {
     "name": "stdout",
     "output_type": "stream",
     "text": [
      "Manual LRP-Bounded with custom bounds: 1.9641679967078447,2.0600507899984803, -2.2744118854944873e-07\n"
     ]
    }
   ],
   "source": [
    "low = 0.4\n",
    "high = 0.6\n",
    "denominator = x[0,0]*W[0,pred_class]+x[0,1]*W[1,pred_class] \\\n",
    "            -low*(np.max(W[0,pred_class],0)+np.max(W[1,pred_class],0)) \\\n",
    "            -high*(np.min(W[0,pred_class],0)+np.min(W[1,pred_class],0))\n",
    "R_0 = R_last * (x[0,0]*W[0,pred_class]-low*np.max(W[0,pred_class],0)-high*np.min(W[0,pred_class],0)) / denominator\n",
    "R_1 = R_last * (x[0,1]*W[1,pred_class]-low*np.max(W[1,pred_class],0)-high*np.min(W[1,pred_class],0)) / denominator\n",
    "print(f\"Manual LRP-Bounded with custom bounds: {R_0},{R_1}, {R_last-R_0-R_1}\")"
   ]
  },
  {
   "cell_type": "code",
   "execution_count": 21,
   "id": "750e460d-b237-4878-9922-65fba71ff76c",
   "metadata": {},
   "outputs": [
    {
     "data": {
      "text/plain": [
       "(500060.0, 499940.0)"
      ]
     },
     "execution_count": 21,
     "metadata": {},
     "output_type": "execute_result"
    }
   ],
   "source": [
    "N = 1000000\n",
    "X = np.random.rand(N,2)\n",
    "y = np.dot(X,np.array([1,2]))[:,np.newaxis]\n",
    "oneHot = np.zeros([y.shape[0],2])\n",
    "oneHot[:,0] = ((y[:,0] >= 1.) & (y[:,0] <= 2.))\n",
    "oneHot[:,1] = ((y[:,0] < 1.) | (y[:,0] > 2.))\n",
    "\n",
    "np.sum(oneHot[:,0]), np.sum(oneHot[:,1])"
   ]
  },
  {
   "cell_type": "code",
   "execution_count": null,
   "id": "95a19aa4-3bcc-4a02-b381-4b079996cfd2",
   "metadata": {
    "scrolled": true
   },
   "outputs": [
    {
     "name": "stdout",
     "output_type": "stream",
     "text": [
      "Train on 800000 samples, validate on 200000 samples\n",
      "Epoch 1/100\n",
      "770048/800000 [===========================>..] - ETA: 0s - loss: 0.5718 - mae: 0.4180\n",
      "Epoch 1: val_loss improved from inf to 0.27812, saving model to /home/shreyas/XAIRT/examples_TomsQoI/model_simpleTests_OI.h5\n",
      "800000/800000 [==============================] - 1s 1us/sample - loss: 0.5611 - mae: 0.4112 - val_loss: 0.2781 - val_mae: 0.2297 - lr: 0.0100\n",
      "Epoch 2/100\n",
      "761856/800000 [===========================>..] - ETA: 0s - loss: 0.1655 - mae: 0.1389\n",
      "Epoch 2: val_loss improved from 0.27812 to 0.10768, saving model to /home/shreyas/XAIRT/examples_TomsQoI/model_simpleTests_OI.h5\n",
      "800000/800000 [==============================] - 1s 1us/sample - loss: 0.1628 - mae: 0.1366 - val_loss: 0.1077 - val_mae: 0.0908 - lr: 0.0100\n",
      "Epoch 3/100\n",
      "745472/800000 [==========================>...] - ETA: 0s - loss: 0.0879 - mae: 0.0742\n",
      "Epoch 3: val_loss improved from 0.10768 to 0.07351, saving model to /home/shreyas/XAIRT/examples_TomsQoI/model_simpleTests_OI.h5\n",
      "800000/800000 [==============================] - 1s 1us/sample - loss: 0.0868 - mae: 0.0733 - val_loss: 0.0735 - val_mae: 0.0620 - lr: 0.0100\n",
      "Epoch 4/100\n",
      "751616/800000 [===========================>..] - ETA: 0s - loss: 0.0647 - mae: 0.0546\n",
      "Epoch 4: val_loss improved from 0.07351 to 0.05845, saving model to /home/shreyas/XAIRT/examples_TomsQoI/model_simpleTests_OI.h5\n",
      "800000/800000 [==============================] - 1s 1us/sample - loss: 0.0642 - mae: 0.0542 - val_loss: 0.0585 - val_mae: 0.0493 - lr: 0.0100\n",
      "Epoch 5/100\n",
      "753664/800000 [===========================>..] - ETA: 0s - loss: 0.0529 - mae: 0.0446\n",
      "Epoch 5: val_loss improved from 0.05845 to 0.04908, saving model to /home/shreyas/XAIRT/examples_TomsQoI/model_simpleTests_OI.h5\n",
      "800000/800000 [==============================] - 1s 1us/sample - loss: 0.0526 - mae: 0.0444 - val_loss: 0.0491 - val_mae: 0.0414 - lr: 0.0100\n",
      "Epoch 6/100\n",
      "761856/800000 [===========================>..] - ETA: 0s - loss: 0.0454 - mae: 0.0383\n",
      "Epoch 6: val_loss improved from 0.04908 to 0.04315, saving model to /home/shreyas/XAIRT/examples_TomsQoI/model_simpleTests_OI.h5\n",
      "800000/800000 [==============================] - 1s 1us/sample - loss: 0.0453 - mae: 0.0382 - val_loss: 0.0432 - val_mae: 0.0363 - lr: 0.0100\n",
      "Epoch 7/100\n",
      "759808/800000 [===========================>..] - ETA: 0s - loss: 0.0402 - mae: 0.0339\n",
      "Epoch 7: val_loss improved from 0.04315 to 0.03854, saving model to /home/shreyas/XAIRT/examples_TomsQoI/model_simpleTests_OI.h5\n",
      "800000/800000 [==============================] - 1s 1us/sample - loss: 0.0401 - mae: 0.0338 - val_loss: 0.0385 - val_mae: 0.0325 - lr: 0.0100\n",
      "Epoch 8/100\n",
      "759808/800000 [===========================>..] - ETA: 0s - loss: 0.0363 - mae: 0.0306\n",
      "Epoch 8: val_loss improved from 0.03854 to 0.03500, saving model to /home/shreyas/XAIRT/examples_TomsQoI/model_simpleTests_OI.h5\n",
      "800000/800000 [==============================] - 1s 1us/sample - loss: 0.0362 - mae: 0.0305 - val_loss: 0.0350 - val_mae: 0.0295 - lr: 0.0100\n",
      "Epoch 9/100\n",
      "753664/800000 [===========================>..] - ETA: 0s - loss: 0.0332 - mae: 0.0280\n",
      "Epoch 9: val_loss improved from 0.03500 to 0.03230, saving model to /home/shreyas/XAIRT/examples_TomsQoI/model_simpleTests_OI.h5\n",
      "800000/800000 [==============================] - 1s 1us/sample - loss: 0.0332 - mae: 0.0280 - val_loss: 0.0323 - val_mae: 0.0272 - lr: 0.0100\n",
      "Epoch 10/100\n",
      "755712/800000 [===========================>..] - ETA: 0s - loss: 0.0307 - mae: 0.0259\n",
      "Epoch 10: val_loss improved from 0.03230 to 0.03002, saving model to /home/shreyas/XAIRT/examples_TomsQoI/model_simpleTests_OI.h5\n",
      "800000/800000 [==============================] - 1s 1us/sample - loss: 0.0307 - mae: 0.0259 - val_loss: 0.0300 - val_mae: 0.0253 - lr: 0.0100\n",
      "Epoch 11/100\n",
      "761856/800000 [===========================>..] - ETA: 0s - loss: 0.0287 - mae: 0.0242\n",
      "Epoch 11: val_loss improved from 0.03002 to 0.02839, saving model to /home/shreyas/XAIRT/examples_TomsQoI/model_simpleTests_OI.h5\n",
      "800000/800000 [==============================] - 1s 1us/sample - loss: 0.0286 - mae: 0.0241 - val_loss: 0.0284 - val_mae: 0.0238 - lr: 0.0100\n",
      "Epoch 12/100\n",
      "755712/800000 [===========================>..] - ETA: 0s - loss: 0.0269 - mae: 0.0227\n",
      "Epoch 12: val_loss improved from 0.02839 to 0.02641, saving model to /home/shreyas/XAIRT/examples_TomsQoI/model_simpleTests_OI.h5\n",
      "800000/800000 [==============================] - 1s 1us/sample - loss: 0.0269 - mae: 0.0227 - val_loss: 0.0264 - val_mae: 0.0223 - lr: 0.0100\n",
      "Epoch 13/100\n",
      "747520/800000 [===========================>..] - ETA: 0s - loss: 0.0254 - mae: 0.0214\n",
      "Epoch 13: val_loss improved from 0.02641 to 0.02507, saving model to /home/shreyas/XAIRT/examples_TomsQoI/model_simpleTests_OI.h5\n",
      "800000/800000 [==============================] - 1s 1us/sample - loss: 0.0254 - mae: 0.0214 - val_loss: 0.0251 - val_mae: 0.0211 - lr: 0.0100\n",
      "Epoch 14/100\n",
      "759808/800000 [===========================>..] - ETA: 0s - loss: 0.0241 - mae: 0.0203\n",
      "Epoch 14: val_loss improved from 0.02507 to 0.02382, saving model to /home/shreyas/XAIRT/examples_TomsQoI/model_simpleTests_OI.h5\n",
      "800000/800000 [==============================] - 1s 1us/sample - loss: 0.0241 - mae: 0.0203 - val_loss: 0.0238 - val_mae: 0.0201 - lr: 0.0100\n",
      "Epoch 15/100\n",
      "743424/800000 [==========================>...] - ETA: 0s - loss: 0.0230 - mae: 0.0194\n",
      "Epoch 15: val_loss improved from 0.02382 to 0.02269, saving model to /home/shreyas/XAIRT/examples_TomsQoI/model_simpleTests_OI.h5\n",
      "800000/800000 [==============================] - 1s 1us/sample - loss: 0.0229 - mae: 0.0193 - val_loss: 0.0227 - val_mae: 0.0191 - lr: 0.0100\n",
      "Epoch 16/100\n",
      "759808/800000 [===========================>..] - ETA: 0s - loss: 0.0219 - mae: 0.0185\n",
      "Epoch 16: val_loss improved from 0.02269 to 0.02173, saving model to /home/shreyas/XAIRT/examples_TomsQoI/model_simpleTests_OI.h5\n",
      "800000/800000 [==============================] - 1s 1us/sample - loss: 0.0219 - mae: 0.0185 - val_loss: 0.0217 - val_mae: 0.0183 - lr: 0.0100\n",
      "Epoch 17/100\n",
      "741376/800000 [==========================>...] - ETA: 0s - loss: 0.0210 - mae: 0.0177\n",
      "Epoch 17: val_loss improved from 0.02173 to 0.02110, saving model to /home/shreyas/XAIRT/examples_TomsQoI/model_simpleTests_OI.h5\n",
      "800000/800000 [==============================] - 1s 1us/sample - loss: 0.0210 - mae: 0.0177 - val_loss: 0.0211 - val_mae: 0.0177 - lr: 0.0100\n",
      "Epoch 18/100\n",
      "739328/800000 [==========================>...] - ETA: 0s - loss: 0.0202 - mae: 0.0170\n",
      "Epoch 18: val_loss improved from 0.02110 to 0.02000, saving model to /home/shreyas/XAIRT/examples_TomsQoI/model_simpleTests_OI.h5\n",
      "800000/800000 [==============================] - 1s 1us/sample - loss: 0.0202 - mae: 0.0170 - val_loss: 0.0200 - val_mae: 0.0169 - lr: 0.0100\n",
      "Epoch 19/100\n",
      "747520/800000 [===========================>..] - ETA: 0s - loss: 0.0195 - mae: 0.0164\n",
      "Epoch 19: val_loss improved from 0.02000 to 0.01933, saving model to /home/shreyas/XAIRT/examples_TomsQoI/model_simpleTests_OI.h5\n",
      "800000/800000 [==============================] - 1s 1us/sample - loss: 0.0194 - mae: 0.0164 - val_loss: 0.0193 - val_mae: 0.0163 - lr: 0.0100\n",
      "Epoch 20/100\n",
      "755712/800000 [===========================>..] - ETA: 0s - loss: 0.0188 - mae: 0.0158\n",
      "Epoch 20: val_loss improved from 0.01933 to 0.01865, saving model to /home/shreyas/XAIRT/examples_TomsQoI/model_simpleTests_OI.h5\n",
      "800000/800000 [==============================] - 1s 1us/sample - loss: 0.0187 - mae: 0.0158 - val_loss: 0.0186 - val_mae: 0.0157 - lr: 0.0100\n",
      "Epoch 21/100\n",
      "753664/800000 [===========================>..] - ETA: 0s - loss: 0.0181 - mae: 0.0153\n",
      "Epoch 21: val_loss improved from 0.01865 to 0.01813, saving model to /home/shreyas/XAIRT/examples_TomsQoI/model_simpleTests_OI.h5\n",
      "800000/800000 [==============================] - 1s 1us/sample - loss: 0.0181 - mae: 0.0153 - val_loss: 0.0181 - val_mae: 0.0152 - lr: 0.0100\n",
      "Epoch 22/100\n",
      "749568/800000 [===========================>..] - ETA: 0s - loss: 0.0176 - mae: 0.0148\n",
      "Epoch 22: val_loss improved from 0.01813 to 0.01758, saving model to /home/shreyas/XAIRT/examples_TomsQoI/model_simpleTests_OI.h5\n",
      "800000/800000 [==============================] - 1s 1us/sample - loss: 0.0176 - mae: 0.0148 - val_loss: 0.0176 - val_mae: 0.0148 - lr: 0.0100\n",
      "Epoch 23/100\n",
      "759808/800000 [===========================>..] - ETA: 0s - loss: 0.0171 - mae: 0.0144\n",
      "Epoch 23: val_loss improved from 0.01758 to 0.01691, saving model to /home/shreyas/XAIRT/examples_TomsQoI/model_simpleTests_OI.h5\n",
      "800000/800000 [==============================] - 1s 1us/sample - loss: 0.0170 - mae: 0.0143 - val_loss: 0.0169 - val_mae: 0.0143 - lr: 0.0100\n",
      "Epoch 24/100\n",
      "755712/800000 [===========================>..] - ETA: 0s - loss: 0.0165 - mae: 0.0139\n",
      "Epoch 24: val_loss improved from 0.01691 to 0.01662, saving model to /home/shreyas/XAIRT/examples_TomsQoI/model_simpleTests_OI.h5\n",
      "800000/800000 [==============================] - 1s 1us/sample - loss: 0.0165 - mae: 0.0139 - val_loss: 0.0166 - val_mae: 0.0139 - lr: 0.0100\n",
      "Epoch 25/100\n",
      "751616/800000 [===========================>..] - ETA: 0s - loss: 0.0162 - mae: 0.0136\n",
      "Epoch 25: val_loss improved from 0.01662 to 0.01634, saving model to /home/shreyas/XAIRT/examples_TomsQoI/model_simpleTests_OI.h5\n",
      "800000/800000 [==============================] - 1s 1us/sample - loss: 0.0161 - mae: 0.0136 - val_loss: 0.0163 - val_mae: 0.0137 - lr: 0.0050\n",
      "Epoch 26/100\n",
      "747520/800000 [===========================>..] - ETA: 0s - loss: 0.0159 - mae: 0.0134\n",
      "Epoch 26: val_loss improved from 0.01634 to 0.01603, saving model to /home/shreyas/XAIRT/examples_TomsQoI/model_simpleTests_OI.h5\n",
      "800000/800000 [==============================] - 1s 1us/sample - loss: 0.0159 - mae: 0.0134 - val_loss: 0.0160 - val_mae: 0.0135 - lr: 0.0050\n",
      "Epoch 27/100\n",
      "303104/800000 [==========>...................] - ETA: 0s - loss: 0.0159 - mae: 0.0133"
     ]
    }
   ],
   "source": [
    "Layers = [{'size': X.shape[1], 'activation': None     , 'use_bias': None},\n",
    "          {'size': 8         , 'activation': 'relu'   , 'use_bias': True},\n",
    "          {'size': 8         , 'activation': 'relu'   , 'use_bias': True},\n",
    "          {'size': 2         , 'activation': 'softmax', 'use_bias': True}]\n",
    "Losses = [{'kind': 'categorical_crossentropy', 'weight': 1.0}]\n",
    "\n",
    "NNkwargs = {'losses': Losses, 'metrics': ['mae'],\n",
    "            'batch_size': 2048, 'epochs': 100, 'validation_split': 0.2,\n",
    "            'filename': 'model_simpleTests_OI', 'dirname': os.path.abspath(''),\n",
    "            'random_nn_seed': 42}\n",
    "\n",
    "# learning rate schedule\n",
    "def step_decay(epoch):\n",
    "    initial_lrate = 0.01\n",
    "    drop = 0.5\n",
    "    epochs_drop = 25\n",
    "    lrate = initial_lrate * drop**np.floor((1+epoch)/epochs_drop)\n",
    "    return lrate\n",
    "\n",
    "keras.backend.clear_session()\n",
    "sgd = keras.optimizers.SGD(learning_rate=0.01, momentum=0.9, nesterov=True)\n",
    "NNkwargs['optimizer'] = sgd\n",
    "\n",
    "K = TrainFullyConnectedNN(X, oneHot, layers = Layers, **NNkwargs)\n",
    "best_model = K.quickTrain(step_decay)\n",
    "oneHot_NN = best_model.predict(X)"
   ]
  },
  {
   "cell_type": "markdown",
   "id": "bf561524-027d-4d44-917f-d33a57245562",
   "metadata": {},
   "source": [
    "Class 1: $x_1 + 2x_2 \\in [1,2]$, Class 2 is the opposite."
   ]
  },
  {
   "cell_type": "code",
   "execution_count": null,
   "id": "543034d4-2dc1-4475-a695-6fef4e0e8e45",
   "metadata": {},
   "outputs": [],
   "source": [
    "inp_numpy = np.array([[0.,0.]])\n",
    "desired_labels_numpy = np.array([[1.,0.]])\n",
    "desired_labels = tf.convert_to_tensor(desired_labels_numpy)\n",
    "\n",
    "print(f\"Desired label : {desired_labels_numpy}\")\n",
    "for i in range(100):\n",
    "    inp = tf.convert_to_tensor(inp_numpy)\n",
    "    grads = GradientDescent_useGradientTape(best_model, inp, desired_labels, \n",
    "                            keras.losses.BinaryCrossentropy())\n",
    "    grads_numpy = np.squeeze(tf_to_numpy(grads))\n",
    "    inp_numpy[0,:] = inp_numpy[0,:] - 0.01*grads_numpy\n",
    "    if (i+1)%10 == 0:\n",
    "        print(f\"Iter {i+1}, Prediction {tf_to_numpy(best_model.predict(inp_numpy))}\")\n",
    "    \n",
    "print(f\"Optimal input is : {inp_numpy}\")\n",
    "\n",
    "inp_numpy = np.array([[0.3,0.6]]) # Optimal input for opposite class to start off\n",
    "desired_labels_numpy = np.array([[0.,1.]])\n",
    "desired_labels = tf.convert_to_tensor(desired_labels_numpy)\n",
    "\n",
    "print(f\"Desired label : {desired_labels_numpy}\")\n",
    "for i in range(100):\n",
    "    inp = tf.convert_to_tensor(inp_numpy)\n",
    "    grads = GradientDescent_useGradientTape(best_model, inp, desired_labels, \n",
    "                            keras.losses.BinaryCrossentropy())\n",
    "    grads_numpy = np.squeeze(tf_to_numpy(grads))\n",
    "    inp_numpy[0,:] = inp_numpy[0,:] - 0.01*grads_numpy\n",
    "    if (i+1)%10 == 0:\n",
    "        print(f\"Iter {i+1}, Prediction {tf_to_numpy(best_model.predict(inp_numpy))}\")\n",
    "    \n",
    "print(f\"Optimal input is : {inp_numpy}\")"
   ]
  }
 ],
 "metadata": {
  "kernelspec": {
   "display_name": "py310_LRP",
   "language": "python",
   "name": "py310_lrp"
  },
  "language_info": {
   "codemirror_mode": {
    "name": "ipython",
    "version": 3
   },
   "file_extension": ".py",
   "mimetype": "text/x-python",
   "name": "python",
   "nbconvert_exporter": "python",
   "pygments_lexer": "ipython3",
   "version": "3.10.8"
  }
 },
 "nbformat": 4,
 "nbformat_minor": 5
}
